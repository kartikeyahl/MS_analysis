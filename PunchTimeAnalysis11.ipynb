{
  "nbformat": 4,
  "nbformat_minor": 0,
  "metadata": {
    "colab": {
      "provenance": [],
      "collapsed_sections": [],
      "include_colab_link": true
    },
    "kernelspec": {
      "name": "python3",
      "display_name": "Python 3"
    },
    "language_info": {
      "name": "python"
    },
    "accelerator": "GPU"
  },
  "cells": [
    {
      "cell_type": "markdown",
      "metadata": {
        "id": "view-in-github",
        "colab_type": "text"
      },
      "source": [
        "<a href=\"https://colab.research.google.com/github/kartikeyahl/MS_analysis/blob/main/PunchTimeAnalysis11.ipynb\" target=\"_parent\"><img src=\"https://colab.research.google.com/assets/colab-badge.svg\" alt=\"Open In Colab\"/></a>"
      ]
    },
    {
      "cell_type": "code",
      "execution_count": 1,
      "metadata": {
        "id": "S6DZ4_-nAQcH"
      },
      "outputs": [],
      "source": [
        "# Importing the libraries\n",
        "import numpy as np\n",
        "import pandas as pd\n",
        "from datetime import datetime\n",
        "import math"
      ]
    },
    {
      "cell_type": "code",
      "source": [
        "# Importing the excel\n",
        "!unzip punch_short.xlsx\n",
        "dataset = pd.read_excel('from 9th.xlsx',parse_dates=['Date'],\n",
        "    date_parser=lambda x: pd.to_datetime(x, format='%Y%m%d'))\n",
        "dataset2=pd.read_excel('Master Data.xlsx')"
      ],
      "metadata": {
        "id": "MUwue4HRBYwQ",
        "outputId": "a9b2df8e-2379-4d87-9aae-0b69c09aaae0",
        "colab": {
          "base_uri": "https://localhost:8080/"
        }
      },
      "execution_count": 2,
      "outputs": [
        {
          "output_type": "stream",
          "name": "stdout",
          "text": [
            "unzip:  cannot find or open punch_short.xlsx, punch_short.xlsx.zip or punch_short.xlsx.ZIP.\n"
          ]
        }
      ]
    },
    {
      "cell_type": "code",
      "source": [
        "#Renaming column name to a valid column name format as per python\n",
        "dataset.rename(columns={'IN/OUT': 'IN_OUT'}, inplace=True)"
      ],
      "metadata": {
        "id": "qKKdv42HE6sA"
      },
      "execution_count": 3,
      "outputs": []
    },
    {
      "cell_type": "code",
      "source": [
        "#Droping rows that conatain 1 in 'IN_OUT' column\n",
        "dataset=dataset[dataset.IN_OUT!=1]"
      ],
      "metadata": {
        "id": "dw4bhU8iDiBX"
      },
      "execution_count": 4,
      "outputs": []
    },
    {
      "cell_type": "code",
      "source": [
        "#Converting Date column values into year-month-day format\n",
        "# j,k=0,0\n",
        "# for i in dataset.iloc[:,3]:\n",
        "#   dataset.Date[j]=datetime.strptime(str(i),'%Y%m%d').date()\n",
        "#   j+=1\n",
        "\n",
        "dataset['Date'] = pd.to_datetime(dataset['Date'], errors='coerce')"
      ],
      "metadata": {
        "id": "yvGUfVsh5-uT",
        "outputId": "c79d764d-5274-4613-b62d-d5ec0cafd4f5",
        "colab": {
          "base_uri": "https://localhost:8080/"
        }
      },
      "execution_count": 5,
      "outputs": [
        {
          "output_type": "stream",
          "name": "stderr",
          "text": [
            "/usr/local/lib/python3.7/dist-packages/ipykernel_launcher.py:7: SettingWithCopyWarning: \n",
            "A value is trying to be set on a copy of a slice from a DataFrame.\n",
            "Try using .loc[row_indexer,col_indexer] = value instead\n",
            "\n",
            "See the caveats in the documentation: https://pandas.pydata.org/pandas-docs/stable/user_guide/indexing.html#returning-a-view-versus-a-copy\n",
            "  import sys\n"
          ]
        }
      ]
    },
    {
      "cell_type": "code",
      "source": [
        "a1=str(dataset.iloc[0]['Date'])\n",
        "a2=str(dataset.iloc[-1]['Date'])\n",
        "d1 = datetime.strptime(a1[0:10], \"%Y-%m-%d\")\n",
        "d2 = datetime.strptime(a2[0:10], \"%Y-%m-%d\")\n",
        "date_diff = abs((d2 - d1).days)+1  "
      ],
      "metadata": {
        "id": "jQygHz6puNFU"
      },
      "execution_count": 6,
      "outputs": []
    },
    {
      "cell_type": "code",
      "source": [
        "#Calculating and appending Punch time difference for each employee with the corresponding E.Code into dataframe (l)\n",
        "l=[]\n",
        "for i in range(len(dataset)-1):\n",
        "  j=i+1\n",
        "  x=str(dataset.iloc[i]['Time'])\n",
        "  y=str(dataset.iloc[j]['Time'])\n",
        "\n",
        "  if len(x)<=5:\n",
        "    x=x.zfill(6)\n",
        "  if len(y)<=5:\n",
        "    y=y.zfill(6)\n",
        "\n",
        "  x = datetime.strptime(x, \"%H%M%S\")\n",
        "  x.strftime(\"%I:%M %p\")\n",
        "  y = datetime.strptime(y, \"%H%M%S\")\n",
        "  y.strftime(\"%I:%M %p\")\n",
        "\n",
        "  l.append([dataset.iloc[i]['E.Code'], dataset.iloc[i]['Date'].date(), dataset.iloc[i]['IN_OUT'], int(dataset.iloc[i]['Time']), datetime.combine(dataset.iloc[j]['Date'], y.time()) - datetime.combine(dataset.iloc[i]['Date'], x.time())])  \n",
        "  i=i+2"
      ],
      "metadata": {
        "id": "-mkUg6_8if77"
      },
      "execution_count": null,
      "outputs": []
    },
    {
      "cell_type": "code",
      "source": [
        "#Replacing \":\" with \".\" and getting upto 2 decimal places in Time to make mathematical operations feasible on i\n",
        "for i in range(len(l)):\n",
        "  l[i][4] = l[i][4].__str__().replace(\":\",\".\")\n",
        "  s=l[i][4]\n",
        "  l[i][4]=s[0:-3]"
      ],
      "metadata": {
        "id": "tOkbgzhwI3WQ"
      },
      "execution_count": null,
      "outputs": []
    },
    {
      "cell_type": "code",
      "source": [
        "#Removing redundant rows and storing in new data-structure\n",
        "l2=[]\n",
        "for i in range(len(l)):\n",
        "  if 'P20' not in str(l[i][2]):\n",
        "    l2.append(l[i]) "
      ],
      "metadata": {
        "id": "ME6usX84dlhy"
      },
      "execution_count": null,
      "outputs": []
    },
    {
      "cell_type": "code",
      "source": [
        "for i in range(len(l2)):\n",
        "  if 'd' in l2[i][4]:\n",
        "    s=l2[i][4]\n",
        "    s=float(s[8:len(s)])\n",
        "    l2[i][4]=24+s"
      ],
      "metadata": {
        "id": "3msTtAarn0xh"
      },
      "execution_count": null,
      "outputs": []
    },
    {
      "cell_type": "code",
      "source": [
        "# s='1 day, 0.53'\n",
        "\n",
        "# s=float(s[5:len(s)])\n",
        "# s=24+s\n",
        "# print(s)"
      ],
      "metadata": {
        "id": "pd0ldCa2pixr"
      },
      "execution_count": null,
      "outputs": []
    },
    {
      "cell_type": "code",
      "source": [
        "#Converting string type to float for Time column\n",
        "for i in range(len(l2)):\n",
        "  try:\n",
        "   l2[i][4]=float(\"{:.2f}\".format(float(l2[i][4])))\n",
        "  except:\n",
        "    print(l2[i][0],l2[i][4])"
      ],
      "metadata": {
        "id": "rHo0S3Olewk9"
      },
      "execution_count": null,
      "outputs": []
    },
    {
      "cell_type": "code",
      "source": [
        "l2"
      ],
      "metadata": {
        "id": "f8mtrw_nqVIK"
      },
      "execution_count": null,
      "outputs": []
    },
    {
      "cell_type": "code",
      "source": [
        "\"\"\"Converting time from float to mins, applied logic to check if it is greater than 9hrs & 30mins. Subtacting the \n",
        "result to get over time (minutes) converting and storing it into hrs.minutes format. \"\"\"\n",
        "\n",
        "l3=[]\n",
        "for i in range(len(l2)):\n",
        "  \n",
        "  frac, whole = math.modf(l2[i][4])\n",
        "  mins=int(whole*60+frac*100)\n",
        "  \n",
        "  if l2[i][2]=='P10' and l2[i][3]>220000:\n",
        "    # print(frac,whole)\n",
        "    # print(l2[i][0])\n",
        "    # print(l2[i][4])\n",
        "    # print(mins)\n",
        "    if mins>450:\n",
        "      mins=mins-450\n",
        "      hours=mins//60\n",
        "      minutes=mins%60\n",
        "      if minutes<10:\n",
        "        ot_time = float(\"{}.0{}\".format(hours, minutes))\n",
        "      elif minutes%10==0:\n",
        "        ot_time = float(\"{}.{}0\".format(hours, minutes))\n",
        "      else:\n",
        "        ot_time = float(\"{}.{}\".format(hours, minutes))\n",
        "      l2[i].append(ot_time)\n",
        "      l3.append(l2[i])\n",
        "\n",
        "  else:\n",
        "    mins=mins-570\n",
        "    hours=mins//60\n",
        "    minutes=mins%60\n",
        "    if minutes<10:\n",
        "      ot_time = float(\"{}.0{}\".format(hours, minutes))\n",
        "    elif minutes%10==0:\n",
        "        ot_time = float(\"{}.{}0\".format(hours, minutes))\n",
        "    else:\n",
        "      ot_time = float(\"{}.{}\".format(hours, minutes))\n",
        "    l2[i].append(ot_time)\n",
        "    l3.append(l2[i])  "
      ],
      "metadata": {
        "id": "PuIkZ4T9HifE"
      },
      "execution_count": null,
      "outputs": []
    },
    {
      "cell_type": "code",
      "source": [
        "89%10"
      ],
      "metadata": {
        "id": "L3BjF7TUyKjv"
      },
      "execution_count": null,
      "outputs": []
    },
    {
      "cell_type": "code",
      "source": [
        "#Removing redundant rows and storing in new data-structure\n",
        "l4=[]\n",
        "for i in range(len(l3)):\n",
        "  if l3[i][5]>0:\n",
        "    l4.append(l3[i]) "
      ],
      "metadata": {
        "id": "YVoWMrFX5ERv"
      },
      "execution_count": null,
      "outputs": []
    },
    {
      "cell_type": "code",
      "source": [
        "# Converting 2d list to dataframe to apply CRUD opertations\n",
        "df = pd.DataFrame(l4, columns=['E.Code','Date','IN/OUT','Time','Total Time','OT'])"
      ],
      "metadata": {
        "id": "MMVYG1IjQmbM"
      },
      "execution_count": null,
      "outputs": []
    },
    {
      "cell_type": "code",
      "source": [
        "#Droping an unnecesary column\n",
        "df=df.drop(['IN/OUT','Time','Total Time'], axis=1)"
      ],
      "metadata": {
        "id": "6cSXdPLbbNpX"
      },
      "execution_count": null,
      "outputs": []
    },
    {
      "cell_type": "code",
      "source": [
        "df"
      ],
      "metadata": {
        "id": "lDLevEAY6Boq"
      },
      "execution_count": null,
      "outputs": []
    },
    {
      "cell_type": "code",
      "source": [
        "ll1=[]\n",
        "def binarySearch(arr, l, r, x):\n",
        "\n",
        "\twhile l <= r:\n",
        "\n",
        "\t\tmid = l + (r - l) // 2\n",
        "\n",
        "\t\t# Check if x is present at mid\n",
        "\t\tif arr[mid] == x:\n",
        "\t\t\treturn mid\n",
        "\n",
        "\t\t# If x is greater, ignore left half\n",
        "\t\telif arr[mid] < x:\n",
        "\t\t\tl = mid + 1\n",
        "\n",
        "\t\t# If x is smaller, ignore right half\n",
        "\t\telse:\n",
        "\t\t\tr = mid - 1\n",
        "\n",
        "\t# If we reach here, then the element\n",
        "\t# was not present\n",
        "\treturn -1\n",
        "\n",
        "\n",
        "# Driver Code\n",
        "arr = [int(i) for i in dataset2['E Code']]\n",
        "\n",
        "for i in range(len(df)):\n",
        "  # Function call\n",
        "  result = binarySearch(arr, 0, len(arr)-1, df.iloc[i]['E.Code'])\n",
        "\n",
        "  if result != -1:\n",
        "      ll1.append([dataset2.iloc[result]['Full Name'], dataset2.iloc[result]['Designation'],dataset2.iloc[result]['Operation'],dataset2.iloc[result]['Division'],dataset2.iloc[result]['Department']])\n",
        "  else:\n",
        "      ll1.append(['NaN','NaN','NaN','NaN'])\n"
      ],
      "metadata": {
        "id": "t-N9O3J5cMRa"
      },
      "execution_count": null,
      "outputs": []
    },
    {
      "cell_type": "code",
      "source": [
        "# Converting 2d list to dataframe to apply CRUD opertations\n",
        "dff = pd.DataFrame(ll1, columns=['Full Name','Designation','Operation','Division','Department'])"
      ],
      "metadata": {
        "id": "hbYSLcPqe7vE"
      },
      "execution_count": null,
      "outputs": []
    },
    {
      "cell_type": "code",
      "source": [
        "df_final = pd.concat([df['E.Code'], dff, df[['Date','OT']]], axis=1)"
      ],
      "metadata": {
        "id": "Qv4sQIm44wv2"
      },
      "execution_count": null,
      "outputs": []
    },
    {
      "cell_type": "code",
      "source": [
        "\"\"\" Printing dataframe (E.Code, Designation, Opr., Division, Dept., Date, OT (after decimal place refers to mins, before refers to hrs; \n",
        "e.g 0.27--> 27 minutes, \n",
        "    1.08--> 1hr & 8 minutes)) \n",
        "\"\"\"\n",
        "df_final"
      ],
      "metadata": {
        "id": "24sVxouk7VZb"
      },
      "execution_count": null,
      "outputs": []
    },
    {
      "cell_type": "code",
      "source": [
        "# lx=[]\n",
        "# for i in df_final['Operation']:\n",
        "#   if i not in lx:\n",
        "#     lx.append(i)\n",
        "\n",
        "\n",
        "# for i in lx:\n",
        "#   c,d=1,0\n",
        "#   lxc=[]\n",
        "#   for j in df_final['Operation']:\n",
        "#     if i == j:\n",
        "#       c+=1\n",
        "#   lxc.append([i,c])\n",
        "#   lx.append(lxc)"
      ],
      "metadata": {
        "id": "CkeKXR8nue7F"
      },
      "execution_count": null,
      "outputs": []
    },
    {
      "cell_type": "code",
      "source": [
        "# df_final.iloc[10035]"
      ],
      "metadata": {
        "id": "WVJwL5w4GIQ_"
      },
      "execution_count": null,
      "outputs": []
    },
    {
      "cell_type": "code",
      "source": [
        "\"\"\" Applying Groupby opr. to group dataframe on basis of E.Code and apply sum and count opr. to \n",
        "compute Total_OT & Total_OT_Days \"\"\"\n",
        "\n",
        "groupby_ecode_Total_OT = df.groupby(['E.Code'],as_index=False).sum()\n",
        "groupby_ecode_Total_OT_Days = df.groupby(['E.Code'],as_index=False).count()\n",
        "groupby_operation_sum = df_final.groupby(['Operation'],as_index=False).sum()\n",
        "groupby_operation = df_final.groupby(['Operation'],as_index=False).count()\n",
        "groupby_division_sum = df_final.groupby(['Division'],as_index=False).sum()\n",
        "groupby_division = df_final.groupby(['Division'],as_index=False).count()\n",
        "groupby_designation_sum = df_final.groupby(['Designation'],as_index=False).sum()\n",
        "groupby_designation = df_final.groupby(['Designation'],as_index=False).count()\n"
      ],
      "metadata": {
        "id": "y7apyM_Ssx4E"
      },
      "execution_count": null,
      "outputs": []
    },
    {
      "cell_type": "code",
      "source": [
        "Operation_count = pd.DataFrame(df_final.groupby(['Operation'],as_index=False).size())\n",
        "Division_count = pd.DataFrame(df_final.groupby(['Division'],as_index=False).size())\n",
        "Designation_count = pd.DataFrame(df_final.groupby(['Designation'],as_index=False).size())"
      ],
      "metadata": {
        "id": "1SN9Y1tftIEx"
      },
      "execution_count": null,
      "outputs": []
    },
    {
      "cell_type": "code",
      "source": [
        "#Converting Groupby object into DataFrame to apply CRUD opr.\n",
        "df2=pd.DataFrame(groupby_ecode_Total_OT)\n",
        "df3=pd.DataFrame(groupby_ecode_Total_OT_Days)\n",
        "df4=pd.DataFrame(groupby_operation)\n",
        "df5=pd.DataFrame(groupby_division)\n",
        "df6=pd.DataFrame(groupby_operation_sum)\n",
        "df7=pd.DataFrame(groupby_division_sum)\n",
        "df8=pd.DataFrame(groupby_designation)\n",
        "df9=pd.DataFrame(groupby_designation_sum)"
      ],
      "metadata": {
        "id": "Lni2QxomtrGa"
      },
      "execution_count": null,
      "outputs": []
    },
    {
      "cell_type": "code",
      "source": [
        "df4=df4.drop(['E.Code','Full Name','Designation','Division','Department','Date'], axis=1)\n",
        "df5=df5.drop(['E.Code','Full Name','Designation','Operation','Department','Date'], axis=1)\n",
        "df8=df8.drop(['E.Code','Full Name','Operation','Division','Department','Date'], axis=1)\n",
        "df6=df6.drop(['E.Code'], axis=1)\n",
        "df7=df7.drop(['E.Code'], axis=1)\n",
        "df9=df9.drop(['E.Code'], axis=1)"
      ],
      "metadata": {
        "id": "QBTNpIROFQgc"
      },
      "execution_count": null,
      "outputs": []
    },
    {
      "cell_type": "code",
      "source": [
        "df4.rename(columns={'OT': 'Total OT_Days'}, inplace=True)\n",
        "df5.rename(columns={'OT': 'Total OT_Days'}, inplace=True)\n",
        "df8.rename(columns={'OT': 'Total OT_Days'}, inplace=True)\n",
        "# df6.rename(columns={'OT': 'Total OT_Days'}, inplace=True)\n",
        "# df7.rename(columns={'OT': 'Total OT_Days'}, inplace=True)"
      ],
      "metadata": {
        "id": "yIwq43rcF2jU"
      },
      "execution_count": null,
      "outputs": []
    },
    {
      "cell_type": "code",
      "source": [
        "l4=[]\n",
        "for i in df2.index:\n",
        "      frac, whole = math.modf(df2['OT'][i])\n",
        "      mins=int(whole*60+frac*100)\n",
        "      hours=mins//60\n",
        "      minutes=mins%60\n",
        "      if minutes<10:\n",
        "          ot_time = float(\"{}.0{}\".format(hours, minutes))\n",
        "      elif minutes%10==0:\n",
        "        ot_time = float(\"{}.{}0\".format(hours, minutes))\n",
        "      else:\n",
        "        ot_time = float(\"{}.{}\".format(hours, minutes))\n",
        "      l4.append(ot_time)"
      ],
      "metadata": {
        "id": "kVlwoaPFRC7D"
      },
      "execution_count": null,
      "outputs": []
    },
    {
      "cell_type": "code",
      "source": [
        "llp=[]\n",
        "for i in df6.index:\n",
        "      frac, whole = math.modf(df6['OT'][i])\n",
        "      mins=int(whole*60+frac*100)\n",
        "      hours=mins//60\n",
        "      minutes=mins%60\n",
        "      if minutes<10:\n",
        "          ot_time = float(\"{}.0{}\".format(hours, minutes))\n",
        "      elif minutes%10==0:\n",
        "        ot_time = float(\"{}.{}0\".format(hours, minutes))\n",
        "      else:\n",
        "        ot_time = float(\"{}.{}\".format(hours, minutes))\n",
        "      llp.append(ot_time)"
      ],
      "metadata": {
        "id": "ShDAJ7cuVPH3"
      },
      "execution_count": null,
      "outputs": []
    },
    {
      "cell_type": "code",
      "source": [
        "lllp=[]\n",
        "for i in df7.index:\n",
        "      frac, whole = math.modf(df7['OT'][i])\n",
        "      mins=int(whole*60+frac*100)\n",
        "      hours=mins//60\n",
        "      minutes=mins%60\n",
        "      if minutes<10:\n",
        "          ot_time = float(\"{}.0{}\".format(hours, minutes))\n",
        "      elif minutes%10==0:\n",
        "        ot_time = float(\"{}.{}0\".format(hours, minutes))\n",
        "      else:\n",
        "        ot_time = float(\"{}.{}\".format(hours, minutes))\n",
        "      lllp.append(ot_time)"
      ],
      "metadata": {
        "id": "oMiHJS58Y3JC"
      },
      "execution_count": null,
      "outputs": []
    },
    {
      "cell_type": "code",
      "source": [
        "llllp=[]\n",
        "for i in df9.index:\n",
        "      frac, whole = math.modf(df9['OT'][i])\n",
        "      mins=int(whole*60+frac*100)\n",
        "      hours=mins//60\n",
        "      minutes=mins%60\n",
        "      if minutes<10:\n",
        "          ot_time = float(\"{}.0{}\".format(hours, minutes))\n",
        "      elif minutes%10==0:\n",
        "        ot_time = float(\"{}.{}0\".format(hours, minutes))\n",
        "      else:\n",
        "        ot_time = float(\"{}.{}\".format(hours, minutes))\n",
        "      llllp.append(ot_time)"
      ],
      "metadata": {
        "id": "KqKDD2dlbpmB"
      },
      "execution_count": null,
      "outputs": []
    },
    {
      "cell_type": "code",
      "source": [
        "df2['Total OT']=l4\n",
        "df6['Total OT']=llp\n",
        "df7['Total OT']=lllp\n",
        "df9['Total OT']=llllp"
      ],
      "metadata": {
        "id": "80ucpX7yBYHZ"
      },
      "execution_count": null,
      "outputs": []
    },
    {
      "cell_type": "code",
      "source": [
        "#Droping an unnecesary column\n",
        "df3=df3.drop(['Date'], axis=1)"
      ],
      "metadata": {
        "id": "UkZguCTLTkmw"
      },
      "execution_count": null,
      "outputs": []
    },
    {
      "cell_type": "code",
      "source": [
        "df2=df2.drop(['OT'], axis=1)\n",
        "df6=df6.drop(['OT'], axis=1)\n",
        "df7=df7.drop(['OT'], axis=1)\n",
        "df9=df9.drop(['OT'], axis=1)"
      ],
      "metadata": {
        "id": "gvCcBpNUBYLm"
      },
      "execution_count": null,
      "outputs": []
    },
    {
      "cell_type": "code",
      "source": [
        "#Renaming Columns\n",
        "#df2.rename(columns={'OT': 'Total OT'}, inplace=True)\n",
        "df3.rename(columns={'OT': 'Total OT_Days'}, inplace=True)"
      ],
      "metadata": {
        "id": "Rv6uJ4qzwvG1"
      },
      "execution_count": null,
      "outputs": []
    },
    {
      "cell_type": "code",
      "source": [
        "lp=[]\n",
        "for i in range(len(df6)):\n",
        "  lp.append(df6.iloc[i]['Total OT']/df4.iloc[i]['Total OT_Days'])\n",
        "lp2=[]\n",
        "for i in range(len(df7)):\n",
        "  lp2.append(df7.iloc[i]['Total OT']/df5.iloc[i]['Total OT_Days'])\n",
        "lp3=[]\n",
        "for i in range(len(df9)):\n",
        "  lp3.append(df9.iloc[i]['Total OT']/df8.iloc[i]['Total OT_Days'])"
      ],
      "metadata": {
        "id": "62WprsaoPV5l"
      },
      "execution_count": null,
      "outputs": []
    },
    {
      "cell_type": "code",
      "source": [
        "lp=pd.DataFrame(lp,columns=['Average OT'])\n",
        "lp2=pd.DataFrame(lp2,columns=['Average OT'])\n",
        "lp3=pd.DataFrame(lp3,columns=['Average OT'])"
      ],
      "metadata": {
        "id": "RP96JIJKQTMq"
      },
      "execution_count": null,
      "outputs": []
    },
    {
      "cell_type": "code",
      "source": [
        "lp"
      ],
      "metadata": {
        "id": "hd3rjnLwSjSo"
      },
      "execution_count": null,
      "outputs": []
    },
    {
      "cell_type": "code",
      "source": [
        "#Creating a final dataframe (E.Code, Total OT_Days, Total OT)\n",
        "# result = pd.concat([df3,df2], axis=1)\n",
        "result_2 =  pd.concat([df4[['Operation','Total OT_Days']],df6['Total OT'],Operation_count['size'],lp['Average OT']], axis=1)\n",
        "result_3 =  pd.concat([df5,df7['Total OT'],Division_count['size'],lp2['Average OT']], axis=1)\n",
        "result_4 =  pd.concat([df8,df9['Total OT'],Designation_count['size'],lp3['Average OT']], axis=1)"
      ],
      "metadata": {
        "id": "seE1Q1RzvHf6"
      },
      "execution_count": null,
      "outputs": []
    },
    {
      "cell_type": "code",
      "source": [
        "result_2.rename(columns={'size': 'Count'}, inplace=True)\n",
        "result_3.rename(columns={'size': 'Count'}, inplace=True)\n",
        "result_4.rename(columns={'size': 'Count'}, inplace=True)"
      ],
      "metadata": {
        "id": "VXMk2cuoK7bG"
      },
      "execution_count": null,
      "outputs": []
    },
    {
      "cell_type": "code",
      "source": [
        "ll2=[]\n",
        "def binarySearch(arr, l, r, x):\n",
        "\n",
        "\twhile l <= r:\n",
        "\n",
        "\t\tmid = l + (r - l) // 2\n",
        "\n",
        "\t\t# Check if x is present at mid\n",
        "\t\tif arr[mid] == x:\n",
        "\t\t\treturn mid\n",
        "\n",
        "\t\t# If x is greater, ignore left half\n",
        "\t\telif arr[mid] < x:\n",
        "\t\t\tl = mid + 1\n",
        "\n",
        "\t\t# If x is smaller, ignore right half\n",
        "\t\telse:\n",
        "\t\t\tr = mid - 1\n",
        "\n",
        "\t# If we reach here, then the element\n",
        "\t# was not present\n",
        "\treturn -1\n",
        "\n",
        "\n",
        "# Driver Code\n",
        "arr = [int(i) for i in dataset2['E Code']]\n",
        "\n",
        "for i in range(len(df3)):\n",
        "  # Function call\n",
        "  res = binarySearch(arr, 0, len(arr)-1, df3.iloc[i]['E.Code'])\n",
        "\n",
        "  if res != -1:\n",
        "      ll2.append([dataset2.iloc[res]['Full Name'], dataset2.iloc[res]['Designation'],dataset2.iloc[res]['Operation'],dataset2.iloc[res]['Division'],dataset2.iloc[res]['Department']])\n",
        "  else:\n",
        "      ll2.append(['NaN','NaN','NaN','NaN'])\n"
      ],
      "metadata": {
        "id": "F4mBk9Xo7-ix"
      },
      "execution_count": null,
      "outputs": []
    },
    {
      "cell_type": "code",
      "source": [
        "# Converting 2d list to dataframe to apply CRUD opertations\n",
        "dfff = pd.DataFrame(ll2, columns=['Full Name','Designation','Operation','Division','Department'])"
      ],
      "metadata": {
        "id": "EaPJEoHG84RJ"
      },
      "execution_count": null,
      "outputs": []
    },
    {
      "cell_type": "code",
      "source": [
        "result = pd.concat([df3['E.Code'], dfff, df3['Total OT_Days'], df2['Total OT']], axis=1)"
      ],
      "metadata": {
        "id": "rLcWdyDc84RK"
      },
      "execution_count": null,
      "outputs": []
    },
    {
      "cell_type": "code",
      "source": [
        "\"\"\" Printing dataframe (E.Code, Total OT (after decimal place refers to mins, before refers to hrs; \n",
        "e.g 0.27--> 27 minutes, \n",
        "    1.08--> 1hr & 8 minutes), \n",
        "    Total OT_Days) \n",
        "\"\"\"\n",
        "result"
      ],
      "metadata": {
        "id": "rScXwiQwhqnX"
      },
      "execution_count": null,
      "outputs": []
    },
    {
      "cell_type": "code",
      "source": [
        "l_diff=[]\n",
        "if date_diff==88 or 89 or 90 or 91 or 92:\n",
        "  for i in range(len(result)):\n",
        "    if result.iloc[i]['Total OT']>50:\n",
        "      l_diff.append([result.iloc[i]['E.Code'],result.iloc[i]['Full Name'],result.iloc[i]['Designation'],result.iloc[i]['Operation'],result.iloc[i]['Division'],result.iloc[i]['Department'],result.iloc[i]['Total OT_Days'],result.iloc[i]['Total OT']])\n",
        "elif date_diff==28 or 29 or 30 or 31:\n",
        "  for i in range(len(result)):\n",
        "    if result.iloc[i]['Total OT']>16:\n",
        "      l_diff.append([result.iloc[i]['E.Code'],result.iloc[i]['Full Name'],result.iloc[i]['Designation'],result.iloc[i]['Operation'],result.iloc[i]['Division'],result.iloc[i]['Department'],result.iloc[i]['Total OT_Days'],result.iloc[i]['Total OT']])\n",
        "else:\n",
        "  for i in range(len(result)):\n",
        "    if result.iloc[i]['Total OT']>((16/30)*date_diff):\n",
        "      l_diff.append([result.iloc[i]['E.Code'],result.iloc[i]['Full Name'],result.iloc[i]['Designation'],result.iloc[i]['Operation'],result.iloc[i]['Division'],result.iloc[i]['Department'],result.iloc[i]['Total OT_Days'],result.iloc[i]['Total OT']])\n"
      ],
      "metadata": {
        "id": "1CEYy-v5zggZ"
      },
      "execution_count": null,
      "outputs": []
    },
    {
      "cell_type": "code",
      "source": [
        "l_diff = pd.DataFrame(l_diff, columns=['E.Code','Full Name','Designation','Operation','Division','Department','Total OT_Days','Total OT'])"
      ],
      "metadata": {
        "id": "IsP--vL41-Eu"
      },
      "execution_count": null,
      "outputs": []
    },
    {
      "cell_type": "code",
      "source": [
        "l_diff"
      ],
      "metadata": {
        "id": "pubvL0fw7neN"
      },
      "execution_count": null,
      "outputs": []
    },
    {
      "cell_type": "code",
      "source": [
        "# consecutive_days=[]\n",
        "# employees_covered=[]\n",
        "# for i in range(len(df_final)):\n",
        "#   count=1\n",
        "#   if df_final.iloc[i]['E.Code'] not in employees_covered:\n",
        "#     employees_covered.append([i,df_final.iloc[i]['E.Code']])\n",
        "#     for j in range(i+1,len(df_final)):\n",
        "#       if df_final.iloc[i]['Date'] ==df_final.iloc[j]['Date']:\n",
        "#         count+=1\n",
        "#     if count>1:\n",
        "#       consecutive_days.append([df_final.iloc[i]['E.Code'],df_final.iloc[i]['Full Name'],df_final.iloc[i]['Designation'],df_final.iloc[i]['Operation'],df_final.iloc[i]['Division'],df_final.iloc[i]['Department']])\n"
      ],
      "metadata": {
        "id": "XEBg-6Eh_w_A"
      },
      "execution_count": null,
      "outputs": []
    },
    {
      "cell_type": "code",
      "source": [
        "# consecutive_days = pd.DataFrame(consecutive_days, columns=['E.Code','Full Name','Designation','Operation','Division','Department'])"
      ],
      "metadata": {
        "id": "JcuN1_N-BBul"
      },
      "execution_count": null,
      "outputs": []
    },
    {
      "cell_type": "code",
      "source": [
        "# Sorting dataframe in descending order on basis of Total OT_Days (User can get top x employees on basis of Total OT_Days)\n",
        "cont2=result.sort_values(by=['Total OT_Days'], ascending=False)"
      ],
      "metadata": {
        "id": "RosYOBSMvgbb"
      },
      "execution_count": null,
      "outputs": []
    },
    {
      "cell_type": "code",
      "source": [
        "cont2_consecutive=[]\n",
        "i=0\n",
        "while cont2.iloc[i]['Total OT_Days']>=10:\n",
        "  cont2_consecutive.append(cont2.iloc[i]['E.Code'])\n",
        "  i+=1"
      ],
      "metadata": {
        "id": "0amKkxv4ng4S"
      },
      "execution_count": null,
      "outputs": []
    },
    {
      "cell_type": "code",
      "source": [
        "cont2_consecutive\n",
        "l_con=[]\n",
        "for x in cont2_consecutive:\n",
        "  for j in range(len(df_final)):\n",
        "    if x == df_final.iloc[j]['E.Code']:\n",
        "      l_con.append([x, df_final.iloc[j]['Date']])\n"
      ],
      "metadata": {
        "id": "ZSqRP1R9otBL"
      },
      "execution_count": null,
      "outputs": []
    },
    {
      "cell_type": "code",
      "source": [
        "l_10con=[]\n",
        "for j in cont2_consecutive:\n",
        "  p,c=0,1\n",
        "  for i in range(len(l_con)):\n",
        "    p=i+1\n",
        "    if p <= len(l_con)-1:\n",
        "      if j==l_con[i][0] and j==l_con[p][0]:\n",
        "          if l_con[i][1].day-l_con[p][1].day==-1:\n",
        "            c+=1\n",
        "          elif l_con[i][1].weekday()==4:\n",
        "            if l_con[i][1].day-l_con[p][1].day==-3:\n",
        "              c+=1\n",
        "  if c>=10:\n",
        "    l_10con.append(j)"
      ],
      "metadata": {
        "id": "XkWmq_OPq7I6"
      },
      "execution_count": null,
      "outputs": []
    },
    {
      "cell_type": "code",
      "source": [
        "l_10_final=[]\n",
        "# result_10day=result\n",
        "# result_10day=result_10day.drop(['Total OT_Days','Total OT'],axis=1)\n",
        "j=0\n",
        "while j<len(l_10con):\n",
        "  for i in range(len(result)):\n",
        "    if result.iloc[i]['E.Code']== l_10con[j]:\n",
        "      l_10_final.append([result.iloc[i]['E.Code'],result.iloc[i]['Full Name'],result.iloc[i]['Designation'],result.iloc[i]['Operation'],result.iloc[i]['Division'],result.iloc[i]['Department']])\n",
        "      break;\n",
        "  j+=1\n",
        "\n",
        "dfff_10 = pd.DataFrame(l_10_final, columns=['E.Code','Full Name','Designation','Operation','Division','Department'])\n"
      ],
      "metadata": {
        "id": "4IHS-p3mzG_l"
      },
      "execution_count": null,
      "outputs": []
    },
    {
      "cell_type": "code",
      "source": [
        "dfff_10"
      ],
      "metadata": {
        "id": "5Iwt03-wJB5n"
      },
      "execution_count": null,
      "outputs": []
    },
    {
      "cell_type": "code",
      "source": [
        "# Sorting dataframe in descending order on basis of Total OT (User can get top x employees on basis of Total OT)\n",
        "cont3=result.sort_values(by=['Total OT'], ascending=False)"
      ],
      "metadata": {
        "id": "ssR8YdwbPZnz"
      },
      "execution_count": null,
      "outputs": []
    },
    {
      "cell_type": "code",
      "source": [
        "cont4=result_2.sort_values(by=['Total OT_Days'], ascending=False)"
      ],
      "metadata": {
        "id": "_QCkyOLlDLPD"
      },
      "execution_count": null,
      "outputs": []
    },
    {
      "cell_type": "code",
      "source": [
        "cont5=result_2.sort_values(by=['Total OT'], ascending=False)"
      ],
      "metadata": {
        "id": "E_hyzAg1cYvd"
      },
      "execution_count": null,
      "outputs": []
    },
    {
      "cell_type": "code",
      "source": [
        "cont6=result_3.sort_values(by=['Total OT_Days'], ascending=False)"
      ],
      "metadata": {
        "id": "BTusvXDhcbbW"
      },
      "execution_count": null,
      "outputs": []
    },
    {
      "cell_type": "code",
      "source": [
        "cont7=result_3.sort_values(by=['Total OT'], ascending=False)"
      ],
      "metadata": {
        "id": "pvbHsTI3cbeu"
      },
      "execution_count": null,
      "outputs": []
    },
    {
      "cell_type": "code",
      "source": [
        "cont8=result_4.sort_values(by=['Total OT_Days'], ascending=False)"
      ],
      "metadata": {
        "id": "REvf2O9ccppO"
      },
      "execution_count": null,
      "outputs": []
    },
    {
      "cell_type": "code",
      "source": [
        "cont9=result_4.sort_values(by=['Total OT'], ascending=False)"
      ],
      "metadata": {
        "id": "YBrX17IbcppO"
      },
      "execution_count": null,
      "outputs": []
    },
    {
      "cell_type": "code",
      "source": [
        "!pip install xlsxwriter"
      ],
      "metadata": {
        "id": "1DD4DnB7MIup"
      },
      "execution_count": null,
      "outputs": []
    },
    {
      "cell_type": "code",
      "source": [
        "from openpyxl import Workbook\n",
        "import xlsxwriter\n",
        "import os\n",
        "\n",
        "workbook = xlsxwriter.Workbook(r'OT_Analysis.xlsx')\n",
        "with pd.ExcelWriter(r'OT_Analysis.xlsx') as writer:\n",
        "#writer = r\"C:\\Users\\Kartikey\\Desktop\\shorttt.xlsx\"\n",
        "# write dataframe to excel\n",
        "    df_final.to_excel(writer,sheet_name='OT')\n",
        "    result.to_excel(writer,sheet_name='Total_OT')\n",
        "    cont2.to_excel(writer,sheet_name='Highest_Total_OT_Days')\n",
        "    cont3.to_excel(writer,sheet_name='Highest_Total_OT')\n",
        "    l_diff.to_excel(writer,sheet_name='Exceeding OT Limit')\n",
        "    dfff_10.to_excel(writer,sheet_name='Exceeding 10 cons. OT days')\n",
        "    cont4.to_excel(writer,sheet_name='Operation_Highest_Total_OT_Days')\n",
        "    cont5.to_excel(writer,sheet_name='Operation_Highest_Total_OT')\n",
        "    cont6.to_excel(writer,sheet_name='Division_Highest_Total_OT_Days')\n",
        "    cont7.to_excel(writer,sheet_name='Division_Highest_Total_OT')\n",
        "    cont8.to_excel(writer,sheet_name='Desig_Highest_Total_OT_Days')\n",
        "    cont9.to_excel(writer,sheet_name='Desig_Highest_Total_OT')"
      ],
      "metadata": {
        "id": "-XC5EpaTKKZE"
      },
      "execution_count": null,
      "outputs": []
    }
  ]
}
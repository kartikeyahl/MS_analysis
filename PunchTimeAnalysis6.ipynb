{
  "nbformat": 4,
  "nbformat_minor": 0,
  "metadata": {
    "colab": {
      "provenance": [],
      "collapsed_sections": [],
      "include_colab_link": true
    },
    "kernelspec": {
      "name": "python3",
      "display_name": "Python 3"
    },
    "language_info": {
      "name": "python"
    },
    "accelerator": "GPU"
  },
  "cells": [
    {
      "cell_type": "markdown",
      "metadata": {
        "id": "view-in-github",
        "colab_type": "text"
      },
      "source": [
        "<a href=\"https://colab.research.google.com/github/kartikeyahl/MS_analysis/blob/main/PunchTimeAnalysis6.ipynb\" target=\"_parent\"><img src=\"https://colab.research.google.com/assets/colab-badge.svg\" alt=\"Open In Colab\"/></a>"
      ]
    },
    {
      "cell_type": "code",
      "execution_count": 47,
      "metadata": {
        "id": "S6DZ4_-nAQcH"
      },
      "outputs": [],
      "source": [
        "# Importing the libraries\n",
        "import numpy as np\n",
        "import pandas as pd\n",
        "from datetime import datetime\n",
        "import math"
      ]
    },
    {
      "cell_type": "code",
      "source": [
        "# Importing the excel\n",
        "!unzip punch_short_.xlsx\n",
        "dataset = pd.read_excel('punch_short_.xlsx',parse_dates=['Date'],\n",
        "    date_parser=lambda x: pd.to_datetime(x, format='%Y%m%d'))\n",
        "dataset2=pd.read_excel('Master Data.xlsx')"
      ],
      "metadata": {
        "id": "MUwue4HRBYwQ",
        "colab": {
          "base_uri": "https://localhost:8080/",
          "height": 432
        },
        "outputId": "4d668c35-93fe-4788-e9c7-112eb7de24d0"
      },
      "execution_count": 49,
      "outputs": [
        {
          "output_type": "stream",
          "name": "stdout",
          "text": [
            "Archive:  punch_short_.xlsx\n",
            "replace [Content_Types].xml? [y]es, [n]o, [A]ll, [N]one, [r]ename: "
          ]
        },
        {
          "output_type": "error",
          "ename": "KeyboardInterrupt",
          "evalue": "ignored",
          "traceback": [
            "\u001b[0;31m---------------------------------------------------------------------------\u001b[0m",
            "\u001b[0;31mKeyboardInterrupt\u001b[0m                         Traceback (most recent call last)",
            "\u001b[0;32m<ipython-input-49-5fd9e83de5ae>\u001b[0m in \u001b[0;36m<module>\u001b[0;34m\u001b[0m\n\u001b[1;32m      2\u001b[0m \u001b[0mget_ipython\u001b[0m\u001b[0;34m(\u001b[0m\u001b[0;34m)\u001b[0m\u001b[0;34m.\u001b[0m\u001b[0msystem\u001b[0m\u001b[0;34m(\u001b[0m\u001b[0;34m'unzip punch_short_.xlsx'\u001b[0m\u001b[0;34m)\u001b[0m\u001b[0;34m\u001b[0m\u001b[0;34m\u001b[0m\u001b[0m\n\u001b[1;32m      3\u001b[0m dataset = pd.read_excel('punch_short_.xlsx',parse_dates=['Date'],\n\u001b[0;32m----> 4\u001b[0;31m     date_parser=lambda x: pd.to_datetime(x, format='%Y%m%d'))\n\u001b[0m\u001b[1;32m      5\u001b[0m \u001b[0mdataset2\u001b[0m\u001b[0;34m=\u001b[0m\u001b[0mpd\u001b[0m\u001b[0;34m.\u001b[0m\u001b[0mread_excel\u001b[0m\u001b[0;34m(\u001b[0m\u001b[0;34m'Master Data.xlsx'\u001b[0m\u001b[0;34m)\u001b[0m\u001b[0;34m\u001b[0m\u001b[0;34m\u001b[0m\u001b[0m\n",
            "\u001b[0;32m/usr/local/lib/python3.7/dist-packages/pandas/util/_decorators.py\u001b[0m in \u001b[0;36mwrapper\u001b[0;34m(*args, **kwargs)\u001b[0m\n\u001b[1;32m    309\u001b[0m                     \u001b[0mstacklevel\u001b[0m\u001b[0;34m=\u001b[0m\u001b[0mstacklevel\u001b[0m\u001b[0;34m,\u001b[0m\u001b[0;34m\u001b[0m\u001b[0;34m\u001b[0m\u001b[0m\n\u001b[1;32m    310\u001b[0m                 )\n\u001b[0;32m--> 311\u001b[0;31m             \u001b[0;32mreturn\u001b[0m \u001b[0mfunc\u001b[0m\u001b[0;34m(\u001b[0m\u001b[0;34m*\u001b[0m\u001b[0margs\u001b[0m\u001b[0;34m,\u001b[0m \u001b[0;34m**\u001b[0m\u001b[0mkwargs\u001b[0m\u001b[0;34m)\u001b[0m\u001b[0;34m\u001b[0m\u001b[0;34m\u001b[0m\u001b[0m\n\u001b[0m\u001b[1;32m    312\u001b[0m \u001b[0;34m\u001b[0m\u001b[0m\n\u001b[1;32m    313\u001b[0m         \u001b[0;32mreturn\u001b[0m \u001b[0mwrapper\u001b[0m\u001b[0;34m\u001b[0m\u001b[0;34m\u001b[0m\u001b[0m\n",
            "\u001b[0;32m/usr/local/lib/python3.7/dist-packages/pandas/io/excel/_base.py\u001b[0m in \u001b[0;36mread_excel\u001b[0;34m(io, sheet_name, header, names, index_col, usecols, squeeze, dtype, engine, converters, true_values, false_values, skiprows, nrows, na_values, keep_default_na, na_filter, verbose, parse_dates, date_parser, thousands, comment, skipfooter, convert_float, mangle_dupe_cols, storage_options)\u001b[0m\n\u001b[1;32m    393\u001b[0m             \u001b[0mskipfooter\u001b[0m\u001b[0;34m=\u001b[0m\u001b[0mskipfooter\u001b[0m\u001b[0;34m,\u001b[0m\u001b[0;34m\u001b[0m\u001b[0;34m\u001b[0m\u001b[0m\n\u001b[1;32m    394\u001b[0m             \u001b[0mconvert_float\u001b[0m\u001b[0;34m=\u001b[0m\u001b[0mconvert_float\u001b[0m\u001b[0;34m,\u001b[0m\u001b[0;34m\u001b[0m\u001b[0;34m\u001b[0m\u001b[0m\n\u001b[0;32m--> 395\u001b[0;31m             \u001b[0mmangle_dupe_cols\u001b[0m\u001b[0;34m=\u001b[0m\u001b[0mmangle_dupe_cols\u001b[0m\u001b[0;34m,\u001b[0m\u001b[0;34m\u001b[0m\u001b[0;34m\u001b[0m\u001b[0m\n\u001b[0m\u001b[1;32m    396\u001b[0m         )\n\u001b[1;32m    397\u001b[0m     \u001b[0;32mfinally\u001b[0m\u001b[0;34m:\u001b[0m\u001b[0;34m\u001b[0m\u001b[0;34m\u001b[0m\u001b[0m\n",
            "\u001b[0;32m/usr/local/lib/python3.7/dist-packages/pandas/io/excel/_base.py\u001b[0m in \u001b[0;36mparse\u001b[0;34m(self, sheet_name, header, names, index_col, usecols, squeeze, converters, true_values, false_values, skiprows, nrows, na_values, parse_dates, date_parser, thousands, comment, skipfooter, convert_float, mangle_dupe_cols, **kwds)\u001b[0m\n\u001b[1;32m   1290\u001b[0m             \u001b[0mconvert_float\u001b[0m\u001b[0;34m=\u001b[0m\u001b[0mconvert_float\u001b[0m\u001b[0;34m,\u001b[0m\u001b[0;34m\u001b[0m\u001b[0;34m\u001b[0m\u001b[0m\n\u001b[1;32m   1291\u001b[0m             \u001b[0mmangle_dupe_cols\u001b[0m\u001b[0;34m=\u001b[0m\u001b[0mmangle_dupe_cols\u001b[0m\u001b[0;34m,\u001b[0m\u001b[0;34m\u001b[0m\u001b[0;34m\u001b[0m\u001b[0m\n\u001b[0;32m-> 1292\u001b[0;31m             \u001b[0;34m**\u001b[0m\u001b[0mkwds\u001b[0m\u001b[0;34m,\u001b[0m\u001b[0;34m\u001b[0m\u001b[0;34m\u001b[0m\u001b[0m\n\u001b[0m\u001b[1;32m   1293\u001b[0m         )\n\u001b[1;32m   1294\u001b[0m \u001b[0;34m\u001b[0m\u001b[0m\n",
            "\u001b[0;32m/usr/local/lib/python3.7/dist-packages/pandas/io/excel/_base.py\u001b[0m in \u001b[0;36mparse\u001b[0;34m(self, sheet_name, header, names, index_col, usecols, squeeze, dtype, true_values, false_values, skiprows, nrows, na_values, verbose, parse_dates, date_parser, thousands, comment, skipfooter, convert_float, mangle_dupe_cols, **kwds)\u001b[0m\n\u001b[1;32m    537\u001b[0m                 \u001b[0msheet\u001b[0m \u001b[0;34m=\u001b[0m \u001b[0mself\u001b[0m\u001b[0;34m.\u001b[0m\u001b[0mget_sheet_by_index\u001b[0m\u001b[0;34m(\u001b[0m\u001b[0masheetname\u001b[0m\u001b[0;34m)\u001b[0m\u001b[0;34m\u001b[0m\u001b[0;34m\u001b[0m\u001b[0m\n\u001b[1;32m    538\u001b[0m \u001b[0;34m\u001b[0m\u001b[0m\n\u001b[0;32m--> 539\u001b[0;31m             \u001b[0mdata\u001b[0m \u001b[0;34m=\u001b[0m \u001b[0mself\u001b[0m\u001b[0;34m.\u001b[0m\u001b[0mget_sheet_data\u001b[0m\u001b[0;34m(\u001b[0m\u001b[0msheet\u001b[0m\u001b[0;34m,\u001b[0m \u001b[0mconvert_float\u001b[0m\u001b[0;34m)\u001b[0m\u001b[0;34m\u001b[0m\u001b[0;34m\u001b[0m\u001b[0m\n\u001b[0m\u001b[1;32m    540\u001b[0m             \u001b[0;32mif\u001b[0m \u001b[0mhasattr\u001b[0m\u001b[0;34m(\u001b[0m\u001b[0msheet\u001b[0m\u001b[0;34m,\u001b[0m \u001b[0;34m\"close\"\u001b[0m\u001b[0;34m)\u001b[0m\u001b[0;34m:\u001b[0m\u001b[0;34m\u001b[0m\u001b[0;34m\u001b[0m\u001b[0m\n\u001b[1;32m    541\u001b[0m                 \u001b[0;31m# pyxlsb opens two TemporaryFiles\u001b[0m\u001b[0;34m\u001b[0m\u001b[0;34m\u001b[0m\u001b[0;34m\u001b[0m\u001b[0m\n",
            "\u001b[0;32m/usr/local/lib/python3.7/dist-packages/pandas/io/excel/_openpyxl.py\u001b[0m in \u001b[0;36mget_sheet_data\u001b[0;34m(self, sheet, convert_float)\u001b[0m\n\u001b[1;32m    570\u001b[0m         \u001b[0mdata\u001b[0m\u001b[0;34m:\u001b[0m \u001b[0mlist\u001b[0m\u001b[0;34m[\u001b[0m\u001b[0mlist\u001b[0m\u001b[0;34m[\u001b[0m\u001b[0mScalar\u001b[0m\u001b[0;34m]\u001b[0m\u001b[0;34m]\u001b[0m \u001b[0;34m=\u001b[0m \u001b[0;34m[\u001b[0m\u001b[0;34m]\u001b[0m\u001b[0;34m\u001b[0m\u001b[0;34m\u001b[0m\u001b[0m\n\u001b[1;32m    571\u001b[0m         \u001b[0mlast_row_with_data\u001b[0m \u001b[0;34m=\u001b[0m \u001b[0;34m-\u001b[0m\u001b[0;36m1\u001b[0m\u001b[0;34m\u001b[0m\u001b[0;34m\u001b[0m\u001b[0m\n\u001b[0;32m--> 572\u001b[0;31m         \u001b[0;32mfor\u001b[0m \u001b[0mrow_number\u001b[0m\u001b[0;34m,\u001b[0m \u001b[0mrow\u001b[0m \u001b[0;32min\u001b[0m \u001b[0menumerate\u001b[0m\u001b[0;34m(\u001b[0m\u001b[0msheet\u001b[0m\u001b[0;34m.\u001b[0m\u001b[0mrows\u001b[0m\u001b[0;34m)\u001b[0m\u001b[0;34m:\u001b[0m\u001b[0;34m\u001b[0m\u001b[0;34m\u001b[0m\u001b[0m\n\u001b[0m\u001b[1;32m    573\u001b[0m             \u001b[0mconverted_row\u001b[0m \u001b[0;34m=\u001b[0m \u001b[0;34m[\u001b[0m\u001b[0mself\u001b[0m\u001b[0;34m.\u001b[0m\u001b[0m_convert_cell\u001b[0m\u001b[0;34m(\u001b[0m\u001b[0mcell\u001b[0m\u001b[0;34m,\u001b[0m \u001b[0mconvert_float\u001b[0m\u001b[0;34m)\u001b[0m \u001b[0;32mfor\u001b[0m \u001b[0mcell\u001b[0m \u001b[0;32min\u001b[0m \u001b[0mrow\u001b[0m\u001b[0;34m]\u001b[0m\u001b[0;34m\u001b[0m\u001b[0;34m\u001b[0m\u001b[0m\n\u001b[1;32m    574\u001b[0m             \u001b[0;32mwhile\u001b[0m \u001b[0mconverted_row\u001b[0m \u001b[0;32mand\u001b[0m \u001b[0mconverted_row\u001b[0m\u001b[0;34m[\u001b[0m\u001b[0;34m-\u001b[0m\u001b[0;36m1\u001b[0m\u001b[0;34m]\u001b[0m \u001b[0;34m==\u001b[0m \u001b[0;34m\"\"\u001b[0m\u001b[0;34m:\u001b[0m\u001b[0;34m\u001b[0m\u001b[0;34m\u001b[0m\u001b[0m\n",
            "\u001b[0;32m/usr/local/lib/python3.7/dist-packages/openpyxl/worksheet/_read_only.py\u001b[0m in \u001b[0;36m_cells_by_row\u001b[0;34m(self, min_col, min_row, max_col, max_row, values_only)\u001b[0m\n\u001b[1;32m     77\u001b[0m                                  \u001b[0mdata_only\u001b[0m\u001b[0;34m=\u001b[0m\u001b[0mself\u001b[0m\u001b[0;34m.\u001b[0m\u001b[0mparent\u001b[0m\u001b[0;34m.\u001b[0m\u001b[0mdata_only\u001b[0m\u001b[0;34m,\u001b[0m \u001b[0mepoch\u001b[0m\u001b[0;34m=\u001b[0m\u001b[0mself\u001b[0m\u001b[0;34m.\u001b[0m\u001b[0mparent\u001b[0m\u001b[0;34m.\u001b[0m\u001b[0mepoch\u001b[0m\u001b[0;34m,\u001b[0m\u001b[0;34m\u001b[0m\u001b[0;34m\u001b[0m\u001b[0m\n\u001b[1;32m     78\u001b[0m                                  date_formats=self.parent._date_formats)\n\u001b[0;32m---> 79\u001b[0;31m         \u001b[0;32mfor\u001b[0m \u001b[0midx\u001b[0m\u001b[0;34m,\u001b[0m \u001b[0mrow\u001b[0m \u001b[0;32min\u001b[0m \u001b[0mparser\u001b[0m\u001b[0;34m.\u001b[0m\u001b[0mparse\u001b[0m\u001b[0;34m(\u001b[0m\u001b[0;34m)\u001b[0m\u001b[0;34m:\u001b[0m\u001b[0;34m\u001b[0m\u001b[0;34m\u001b[0m\u001b[0m\n\u001b[0m\u001b[1;32m     80\u001b[0m             \u001b[0;32mif\u001b[0m \u001b[0mmax_row\u001b[0m \u001b[0;32mis\u001b[0m \u001b[0;32mnot\u001b[0m \u001b[0;32mNone\u001b[0m \u001b[0;32mand\u001b[0m \u001b[0midx\u001b[0m \u001b[0;34m>\u001b[0m \u001b[0mmax_row\u001b[0m\u001b[0;34m:\u001b[0m\u001b[0;34m\u001b[0m\u001b[0;34m\u001b[0m\u001b[0m\n\u001b[1;32m     81\u001b[0m                 \u001b[0;32mbreak\u001b[0m\u001b[0;34m\u001b[0m\u001b[0;34m\u001b[0m\u001b[0m\n",
            "\u001b[0;32m/usr/local/lib/python3.7/dist-packages/openpyxl/worksheet/_reader.py\u001b[0m in \u001b[0;36mparse\u001b[0;34m(self)\u001b[0m\n\u001b[1;32m    142\u001b[0m         \u001b[0mit\u001b[0m \u001b[0;34m=\u001b[0m \u001b[0miterparse\u001b[0m\u001b[0;34m(\u001b[0m\u001b[0mself\u001b[0m\u001b[0;34m.\u001b[0m\u001b[0msource\u001b[0m\u001b[0;34m)\u001b[0m \u001b[0;31m# add a finaliser to close the source when this becomes possible\u001b[0m\u001b[0;34m\u001b[0m\u001b[0;34m\u001b[0m\u001b[0m\n\u001b[1;32m    143\u001b[0m \u001b[0;34m\u001b[0m\u001b[0m\n\u001b[0;32m--> 144\u001b[0;31m         \u001b[0;32mfor\u001b[0m \u001b[0m_\u001b[0m\u001b[0;34m,\u001b[0m \u001b[0melement\u001b[0m \u001b[0;32min\u001b[0m \u001b[0mit\u001b[0m\u001b[0;34m:\u001b[0m\u001b[0;34m\u001b[0m\u001b[0;34m\u001b[0m\u001b[0m\n\u001b[0m\u001b[1;32m    145\u001b[0m             \u001b[0mtag_name\u001b[0m \u001b[0;34m=\u001b[0m \u001b[0melement\u001b[0m\u001b[0;34m.\u001b[0m\u001b[0mtag\u001b[0m\u001b[0;34m\u001b[0m\u001b[0;34m\u001b[0m\u001b[0m\n\u001b[1;32m    146\u001b[0m             \u001b[0;32mif\u001b[0m \u001b[0mtag_name\u001b[0m \u001b[0;32min\u001b[0m \u001b[0mdispatcher\u001b[0m\u001b[0;34m:\u001b[0m\u001b[0;34m\u001b[0m\u001b[0;34m\u001b[0m\u001b[0m\n",
            "\u001b[0;32m/usr/lib/python3.7/xml/etree/ElementTree.py\u001b[0m in \u001b[0;36miterator\u001b[0;34m()\u001b[0m\n\u001b[1;32m   1225\u001b[0m                 \u001b[0;32mif\u001b[0m \u001b[0;32mnot\u001b[0m \u001b[0mdata\u001b[0m\u001b[0;34m:\u001b[0m\u001b[0;34m\u001b[0m\u001b[0;34m\u001b[0m\u001b[0m\n\u001b[1;32m   1226\u001b[0m                     \u001b[0;32mbreak\u001b[0m\u001b[0;34m\u001b[0m\u001b[0;34m\u001b[0m\u001b[0m\n\u001b[0;32m-> 1227\u001b[0;31m                 \u001b[0mpullparser\u001b[0m\u001b[0;34m.\u001b[0m\u001b[0mfeed\u001b[0m\u001b[0;34m(\u001b[0m\u001b[0mdata\u001b[0m\u001b[0;34m)\u001b[0m\u001b[0;34m\u001b[0m\u001b[0;34m\u001b[0m\u001b[0m\n\u001b[0m\u001b[1;32m   1228\u001b[0m             \u001b[0mroot\u001b[0m \u001b[0;34m=\u001b[0m \u001b[0mpullparser\u001b[0m\u001b[0;34m.\u001b[0m\u001b[0m_close_and_return_root\u001b[0m\u001b[0;34m(\u001b[0m\u001b[0;34m)\u001b[0m\u001b[0;34m\u001b[0m\u001b[0;34m\u001b[0m\u001b[0m\n\u001b[1;32m   1229\u001b[0m             \u001b[0;32myield\u001b[0m \u001b[0;32mfrom\u001b[0m \u001b[0mpullparser\u001b[0m\u001b[0;34m.\u001b[0m\u001b[0mread_events\u001b[0m\u001b[0;34m(\u001b[0m\u001b[0;34m)\u001b[0m\u001b[0;34m\u001b[0m\u001b[0;34m\u001b[0m\u001b[0m\n",
            "\u001b[0;32m/usr/lib/python3.7/xml/etree/ElementTree.py\u001b[0m in \u001b[0;36mfeed\u001b[0;34m(self, data)\u001b[0m\n\u001b[1;32m   1267\u001b[0m         \u001b[0;32mif\u001b[0m \u001b[0mdata\u001b[0m\u001b[0;34m:\u001b[0m\u001b[0;34m\u001b[0m\u001b[0;34m\u001b[0m\u001b[0m\n\u001b[1;32m   1268\u001b[0m             \u001b[0;32mtry\u001b[0m\u001b[0;34m:\u001b[0m\u001b[0;34m\u001b[0m\u001b[0;34m\u001b[0m\u001b[0m\n\u001b[0;32m-> 1269\u001b[0;31m                 \u001b[0mself\u001b[0m\u001b[0;34m.\u001b[0m\u001b[0m_parser\u001b[0m\u001b[0;34m.\u001b[0m\u001b[0mfeed\u001b[0m\u001b[0;34m(\u001b[0m\u001b[0mdata\u001b[0m\u001b[0;34m)\u001b[0m\u001b[0;34m\u001b[0m\u001b[0;34m\u001b[0m\u001b[0m\n\u001b[0m\u001b[1;32m   1270\u001b[0m             \u001b[0;32mexcept\u001b[0m \u001b[0mSyntaxError\u001b[0m \u001b[0;32mas\u001b[0m \u001b[0mexc\u001b[0m\u001b[0;34m:\u001b[0m\u001b[0;34m\u001b[0m\u001b[0;34m\u001b[0m\u001b[0m\n\u001b[1;32m   1271\u001b[0m                 \u001b[0mself\u001b[0m\u001b[0;34m.\u001b[0m\u001b[0m_events_queue\u001b[0m\u001b[0;34m.\u001b[0m\u001b[0mappend\u001b[0m\u001b[0;34m(\u001b[0m\u001b[0mexc\u001b[0m\u001b[0;34m)\u001b[0m\u001b[0;34m\u001b[0m\u001b[0;34m\u001b[0m\u001b[0m\n",
            "\u001b[0;32m/usr/lib/python3.7/xml/etree/ElementTree.py\u001b[0m in \u001b[0;36mfeed\u001b[0;34m(self, data)\u001b[0m\n\u001b[1;32m   1628\u001b[0m         \u001b[0;34m\"\"\"Feed encoded data to parser.\"\"\"\u001b[0m\u001b[0;34m\u001b[0m\u001b[0;34m\u001b[0m\u001b[0m\n\u001b[1;32m   1629\u001b[0m         \u001b[0;32mtry\u001b[0m\u001b[0;34m:\u001b[0m\u001b[0;34m\u001b[0m\u001b[0;34m\u001b[0m\u001b[0m\n\u001b[0;32m-> 1630\u001b[0;31m             \u001b[0mself\u001b[0m\u001b[0;34m.\u001b[0m\u001b[0mparser\u001b[0m\u001b[0;34m.\u001b[0m\u001b[0mParse\u001b[0m\u001b[0;34m(\u001b[0m\u001b[0mdata\u001b[0m\u001b[0;34m,\u001b[0m \u001b[0;36m0\u001b[0m\u001b[0;34m)\u001b[0m\u001b[0;34m\u001b[0m\u001b[0;34m\u001b[0m\u001b[0m\n\u001b[0m\u001b[1;32m   1631\u001b[0m         \u001b[0;32mexcept\u001b[0m \u001b[0mself\u001b[0m\u001b[0;34m.\u001b[0m\u001b[0m_error\u001b[0m \u001b[0;32mas\u001b[0m \u001b[0mv\u001b[0m\u001b[0;34m:\u001b[0m\u001b[0;34m\u001b[0m\u001b[0;34m\u001b[0m\u001b[0m\n\u001b[1;32m   1632\u001b[0m             \u001b[0mself\u001b[0m\u001b[0;34m.\u001b[0m\u001b[0m_raiseerror\u001b[0m\u001b[0;34m(\u001b[0m\u001b[0mv\u001b[0m\u001b[0;34m)\u001b[0m\u001b[0;34m\u001b[0m\u001b[0;34m\u001b[0m\u001b[0m\n",
            "\u001b[0;32m../Modules/pyexpat.c\u001b[0m in \u001b[0;36mEndElement\u001b[0;34m()\u001b[0m\n",
            "\u001b[0;32m/usr/lib/python3.7/xml/etree/ElementTree.py\u001b[0m in \u001b[0;36mhandler\u001b[0;34m(tag, event, append, end)\u001b[0m\n\u001b[1;32m   1512\u001b[0m                 def handler(tag, event=event_name, append=append,\n\u001b[1;32m   1513\u001b[0m                             end=self._end):\n\u001b[0;32m-> 1514\u001b[0;31m                     \u001b[0mappend\u001b[0m\u001b[0;34m(\u001b[0m\u001b[0;34m(\u001b[0m\u001b[0mevent\u001b[0m\u001b[0;34m,\u001b[0m \u001b[0mend\u001b[0m\u001b[0;34m(\u001b[0m\u001b[0mtag\u001b[0m\u001b[0;34m)\u001b[0m\u001b[0;34m)\u001b[0m\u001b[0;34m)\u001b[0m\u001b[0;34m\u001b[0m\u001b[0;34m\u001b[0m\u001b[0m\n\u001b[0m\u001b[1;32m   1515\u001b[0m                 \u001b[0mparser\u001b[0m\u001b[0;34m.\u001b[0m\u001b[0mEndElementHandler\u001b[0m \u001b[0;34m=\u001b[0m \u001b[0mhandler\u001b[0m\u001b[0;34m\u001b[0m\u001b[0;34m\u001b[0m\u001b[0m\n\u001b[1;32m   1516\u001b[0m             \u001b[0;32melif\u001b[0m \u001b[0mevent_name\u001b[0m \u001b[0;34m==\u001b[0m \u001b[0;34m\"start-ns\"\u001b[0m\u001b[0;34m:\u001b[0m\u001b[0;34m\u001b[0m\u001b[0;34m\u001b[0m\u001b[0m\n",
            "\u001b[0;32m/usr/lib/python3.7/xml/etree/ElementTree.py\u001b[0m in \u001b[0;36m_end\u001b[0;34m(self, tag)\u001b[0m\n\u001b[1;32m   1555\u001b[0m \u001b[0;34m\u001b[0m\u001b[0m\n\u001b[1;32m   1556\u001b[0m     \u001b[0;32mdef\u001b[0m \u001b[0m_end\u001b[0m\u001b[0;34m(\u001b[0m\u001b[0mself\u001b[0m\u001b[0;34m,\u001b[0m \u001b[0mtag\u001b[0m\u001b[0;34m)\u001b[0m\u001b[0;34m:\u001b[0m\u001b[0;34m\u001b[0m\u001b[0;34m\u001b[0m\u001b[0m\n\u001b[0;32m-> 1557\u001b[0;31m         \u001b[0;32mreturn\u001b[0m \u001b[0mself\u001b[0m\u001b[0;34m.\u001b[0m\u001b[0mtarget\u001b[0m\u001b[0;34m.\u001b[0m\u001b[0mend\u001b[0m\u001b[0;34m(\u001b[0m\u001b[0mself\u001b[0m\u001b[0;34m.\u001b[0m\u001b[0m_fixname\u001b[0m\u001b[0;34m(\u001b[0m\u001b[0mtag\u001b[0m\u001b[0;34m)\u001b[0m\u001b[0;34m)\u001b[0m\u001b[0;34m\u001b[0m\u001b[0;34m\u001b[0m\u001b[0m\n\u001b[0m\u001b[1;32m   1558\u001b[0m \u001b[0;34m\u001b[0m\u001b[0m\n\u001b[1;32m   1559\u001b[0m     \u001b[0;32mdef\u001b[0m \u001b[0m_default\u001b[0m\u001b[0;34m(\u001b[0m\u001b[0mself\u001b[0m\u001b[0;34m,\u001b[0m \u001b[0mtext\u001b[0m\u001b[0;34m)\u001b[0m\u001b[0;34m:\u001b[0m\u001b[0;34m\u001b[0m\u001b[0;34m\u001b[0m\u001b[0m\n",
            "\u001b[0;31mKeyboardInterrupt\u001b[0m: "
          ]
        }
      ]
    },
    {
      "cell_type": "code",
      "source": [
        "#Renaming column name to a valid column name format as per python\n",
        "dataset.rename(columns={'IN/OUT': 'IN_OUT'}, inplace=True)"
      ],
      "metadata": {
        "id": "qKKdv42HE6sA"
      },
      "execution_count": 50,
      "outputs": []
    },
    {
      "cell_type": "code",
      "source": [
        "#Droping rows that conatain 1 in 'IN_OUT' column\n",
        "dataset=dataset[dataset.IN_OUT!=1]"
      ],
      "metadata": {
        "id": "dw4bhU8iDiBX"
      },
      "execution_count": 51,
      "outputs": []
    },
    {
      "cell_type": "code",
      "source": [
        "#Converting Date column values into year-month-day format\n",
        "# j,k=0,0\n",
        "# for i in dataset.iloc[:,3]:\n",
        "#   dataset.Date[j]=datetime.strptime(str(i),'%Y%m%d').date()\n",
        "#   j+=1\n",
        "\n",
        "dataset['Date'] = pd.to_datetime(dataset['Date'], errors='coerce')"
      ],
      "metadata": {
        "id": "yvGUfVsh5-uT"
      },
      "execution_count": 52,
      "outputs": []
    },
    {
      "cell_type": "code",
      "source": [
        "#Calculating and appending Punch time difference for each employee with the corresponding E.Code into dataframe (l)\n",
        "l=[]\n",
        "for i in range(len(dataset)-1):\n",
        "  j=i+1\n",
        "  x=str(dataset.iloc[i]['Time'])\n",
        "  y=str(dataset.iloc[j]['Time'])\n",
        "\n",
        "  if len(x)<=5:\n",
        "    x=x.zfill(6)\n",
        "  if len(y)<=5:\n",
        "    y=y.zfill(6)\n",
        "\n",
        "  x = datetime.strptime(x, \"%H%M%S\")\n",
        "  x.strftime(\"%I:%M %p\")\n",
        "  y = datetime.strptime(y, \"%H%M%S\")\n",
        "  y.strftime(\"%I:%M %p\")\n",
        "\n",
        "  l.append([dataset.iloc[i]['E.Code'], dataset.iloc[i]['Date'].date(), dataset.iloc[i]['IN_OUT'], int(dataset.iloc[i]['Time']), datetime.combine(dataset.iloc[j]['Date'], y.time()) - datetime.combine(dataset.iloc[i]['Date'], x.time())])  \n",
        "  i=i+2"
      ],
      "metadata": {
        "id": "-mkUg6_8if77"
      },
      "execution_count": 53,
      "outputs": []
    },
    {
      "cell_type": "code",
      "source": [
        "# #Calculating and appending Punch time difference for each employee with the corresponding E.Code into dataframe (l)\n",
        "\n",
        "# x='140000'\n",
        "# y='020000'\n",
        "# if len(x)<=4:\n",
        "#   x=x.zfill(6)\n",
        "# if len(y)<=4:\n",
        "#   y=y.zfill(6)\n",
        "\n",
        "# x2 = datetime.strptime(x, \"%H%M%S\")\n",
        "# x2.strftime(\"%I:%M %p\")\n",
        "# y2 = datetime.strptime(y, \"%H%M%S\")\n",
        "# y2.strftime(\"%I:%M %p\")\n",
        "# print(x2,y2)\n",
        "# r=datetime.combine(datetime.strptime('20221012','%Y%m%d'), y2.time()) - datetime.combine(datetime.strptime('20221011','%Y%m%d'), x2.time())\n",
        "# print(r)"
      ],
      "metadata": {
        "id": "T2IySR1ri-Nt"
      },
      "execution_count": 54,
      "outputs": []
    },
    {
      "cell_type": "code",
      "source": [
        "#Replacing \":\" with \".\" and getting upto 2 decimal places in Time to make mathematical operations feasible on i\n",
        "for i in range(len(l)):\n",
        "  l[i][4] = l[i][4].__str__().replace(\":\",\".\")\n",
        "  s=l[i][4]\n",
        "  l[i][4]=s[0:-3]"
      ],
      "metadata": {
        "id": "tOkbgzhwI3WQ"
      },
      "execution_count": 55,
      "outputs": []
    },
    {
      "cell_type": "code",
      "source": [
        "#Removing redundant rows and storing in new data-structure\n",
        "l2=[]\n",
        "for i in range(len(l)):\n",
        "  if 'P20' not in str(l[i][2]):\n",
        "    l2.append(l[i]) "
      ],
      "metadata": {
        "id": "ME6usX84dlhy"
      },
      "execution_count": 56,
      "outputs": []
    },
    {
      "cell_type": "code",
      "source": [
        "for i in range(len(l2)):\n",
        "  if 'd' in l2[i][4]:\n",
        "    s=l2[i][4]\n",
        "    s=float(s[8:len(s)])\n",
        "    l2[i][4]=24+s"
      ],
      "metadata": {
        "id": "3msTtAarn0xh"
      },
      "execution_count": 57,
      "outputs": []
    },
    {
      "cell_type": "code",
      "source": [
        "# s='1 day, 0.53'\n",
        "\n",
        "# s=float(s[5:len(s)])\n",
        "# s=24+s\n",
        "# print(s)"
      ],
      "metadata": {
        "id": "pd0ldCa2pixr"
      },
      "execution_count": 58,
      "outputs": []
    },
    {
      "cell_type": "code",
      "source": [
        "#Converting string type to float for Time column\n",
        "for i in range(len(l2)):\n",
        "  try:\n",
        "   l2[i][4]=float(\"{:.2f}\".format(float(l2[i][4])))\n",
        "  except:\n",
        "    print(l2[i][0],l2[i][4])"
      ],
      "metadata": {
        "id": "rHo0S3Olewk9"
      },
      "execution_count": 59,
      "outputs": []
    },
    {
      "cell_type": "code",
      "source": [
        "\"\"\"Converting time from float to mins, applied logic to check if it is greater than 9hrs & 30mins. Subtacting the \n",
        "result to get over time (minutes) converting and storing it into hrs.minutes format. \"\"\"\n",
        "\n",
        "l3=[]\n",
        "for i in range(len(l2)):\n",
        "  \n",
        "  frac, whole = math.modf(l2[i][4])\n",
        "  mins=int(whole*60+frac*100)\n",
        "  \n",
        "  if l2[i][2]=='P10' and l2[i][3]>220000:\n",
        "    # print(frac,whole)\n",
        "    # print(l2[i][0])\n",
        "    # print(l2[i][4])\n",
        "    # print(mins)\n",
        "    if mins>450:\n",
        "      mins=mins-450\n",
        "      hours=mins//60\n",
        "      minutes=mins%60\n",
        "      if minutes<10:\n",
        "        ot_time = float(\"{}.0{}\".format(hours, minutes))\n",
        "      else:\n",
        "        ot_time = float(\"{}.{}\".format(hours, minutes))\n",
        "      l2[i].append(ot_time)\n",
        "      l3.append(l2[i])\n",
        "\n",
        "  else:\n",
        "    mins=mins-570\n",
        "    hours=mins//60\n",
        "    minutes=mins%60\n",
        "    if minutes<10:\n",
        "      ot_time = float(\"{}.0{}\".format(hours, minutes))\n",
        "    else:\n",
        "      ot_time = float(\"{}.{}\".format(hours, minutes))\n",
        "    l2[i].append(ot_time)\n",
        "    l3.append(l2[i])  "
      ],
      "metadata": {
        "id": "PuIkZ4T9HifE"
      },
      "execution_count": 60,
      "outputs": []
    },
    {
      "cell_type": "code",
      "source": [
        "#Removing redundant rows and storing in new data-structure\n",
        "l4=[]\n",
        "for i in range(len(l3)):\n",
        "  if l3[i][5]>0:\n",
        "    l4.append(l3[i]) "
      ],
      "metadata": {
        "id": "YVoWMrFX5ERv"
      },
      "execution_count": 61,
      "outputs": []
    },
    {
      "cell_type": "code",
      "source": [
        "# Converting 2d list to dataframe to apply CRUD opertations\n",
        "df = pd.DataFrame(l4, columns=['E.Code','Date','IN/OUT','Time','Total Time','OT'])"
      ],
      "metadata": {
        "id": "MMVYG1IjQmbM"
      },
      "execution_count": 62,
      "outputs": []
    },
    {
      "cell_type": "code",
      "source": [
        "#Droping an unnecesary column\n",
        "df=df.drop(['IN/OUT','Time','Total Time'], axis=1)"
      ],
      "metadata": {
        "id": "6cSXdPLbbNpX"
      },
      "execution_count": 63,
      "outputs": []
    },
    {
      "cell_type": "code",
      "source": [
        "ll1=[]\n",
        "def binarySearch(arr, l, r, x):\n",
        "\n",
        "\twhile l <= r:\n",
        "\n",
        "\t\tmid = l + (r - l) // 2\n",
        "\n",
        "\t\t# Check if x is present at mid\n",
        "\t\tif arr[mid] == x:\n",
        "\t\t\treturn mid\n",
        "\n",
        "\t\t# If x is greater, ignore left half\n",
        "\t\telif arr[mid] < x:\n",
        "\t\t\tl = mid + 1\n",
        "\n",
        "\t\t# If x is smaller, ignore right half\n",
        "\t\telse:\n",
        "\t\t\tr = mid - 1\n",
        "\n",
        "\t# If we reach here, then the element\n",
        "\t# was not present\n",
        "\treturn -1\n",
        "\n",
        "\n",
        "# Driver Code\n",
        "arr = [int(i) for i in dataset2['E Code']]\n",
        "\n",
        "for i in range(len(df)-1):\n",
        "  # Function call\n",
        "  result = binarySearch(arr, 0, len(arr)-1, df.iloc[i]['E.Code'])\n",
        "\n",
        "  if result != -1:\n",
        "      ll1.append([dataset2.iloc[result]['Designation'],dataset2.iloc[result]['Operation'],dataset2.iloc[result]['Division'],dataset2.iloc[result]['Department']])\n",
        "  else:\n",
        "      ll1.append(['NaN','NaN','NaN','NaN'])\n"
      ],
      "metadata": {
        "id": "t-N9O3J5cMRa"
      },
      "execution_count": 64,
      "outputs": []
    },
    {
      "cell_type": "code",
      "source": [
        "# ll1=[]\n",
        "# def linearSearch(arr,x):\n",
        "#   for i in range(len(arr)-1):\n",
        "#     if arr[i] == x:\n",
        "#       return i\n",
        "#     else:\n",
        "#       return -1\n",
        "\n",
        "# arr = [int(i) for i in dataset2['E Code']]\n",
        "\n",
        "# for i in range(len(df)-1):\n",
        "#   # Function call\n",
        "#   result = linearSearch(arr,  df.iloc[i]['E.Code'])\n",
        "\n",
        "#   if result != -1:\n",
        "#       ll1.append([dataset2.iloc[result]['Designation'],dataset2.iloc[result]['Operation'],dataset2.iloc[result]['Division'],dataset2.iloc[result]['Department']])\n",
        "#   else:\n",
        "#     print(\"Element is not present in array\")"
      ],
      "metadata": {
        "id": "0Lr7LPgzAiY2"
      },
      "execution_count": 65,
      "outputs": []
    },
    {
      "cell_type": "code",
      "source": [
        "# Converting 2d list to dataframe to apply CRUD opertations\n",
        "dff = pd.DataFrame(ll1, columns=['Designation','Operation','Division','Department'])"
      ],
      "metadata": {
        "id": "hbYSLcPqe7vE"
      },
      "execution_count": 66,
      "outputs": []
    },
    {
      "cell_type": "code",
      "source": [
        "df_final = pd.concat([df['E.Code'], dff, df[['Date','OT']]], axis=1)"
      ],
      "metadata": {
        "id": "Qv4sQIm44wv2"
      },
      "execution_count": 67,
      "outputs": []
    },
    {
      "cell_type": "code",
      "source": [
        "\"\"\" Printing dataframe (E.Code, Designation, Opr., Division, Dept., Date, OT (after decimal place refers to mins, before refers to hrs; \n",
        "e.g 0.27--> 27 minutes, \n",
        "    1.08--> 1hr & 8 minutes)) \n",
        "\"\"\"\n",
        "df_final"
      ],
      "metadata": {
        "colab": {
          "base_uri": "https://localhost:8080/",
          "height": 424
        },
        "id": "24sVxouk7VZb",
        "outputId": "87b17810-c0d3-48d7-98df-e4c48e81f536"
      },
      "execution_count": 68,
      "outputs": [
        {
          "output_type": "execute_result",
          "data": {
            "text/plain": [
              "        E.Code      Designation        Operation  \\\n",
              "0          174          Manager    Manesar Plant   \n",
              "1          189          Manager   Tapukara Plant   \n",
              "2          361            Staff    Manesar Plant   \n",
              "3          368  General Manager  Narsapura Plant   \n",
              "4          442    Chief Manager    Manesar Plant   \n",
              "...        ...              ...              ...   \n",
              "4195  30010145       Apprentice  Narsapura Plant   \n",
              "4196  30010146       Apprentice  Narsapura Plant   \n",
              "4197  30010147       Apprentice  Narsapura Plant   \n",
              "4198  30010148       Apprentice  Narsapura Plant   \n",
              "4199  30010172              NaN              NaN   \n",
              "\n",
              "                              Division            Department        Date    OT  \n",
              "0              Production Body Manesar                 Paint  2022-10-01  0.17  \n",
              "1           Plant Engineering Tapukara  Maintenance Tapukara  2022-10-01  0.04  \n",
              "2              Production Body Manesar        Assembly Frame  2022-10-01  1.56  \n",
              "3         Production Control Narsapura                   NaN  2022-10-01  0.29  \n",
              "4            Plant Engineering Manesar  Safety & Environment  2022-10-01  0.36  \n",
              "...                                ...                   ...         ...   ...  \n",
              "4195         Production Body Narsapura        Weld Narsapura  2022-10-08  1.20  \n",
              "4196         Production Body Narsapura        Weld Narsapura  2022-10-08  1.20  \n",
              "4197  Production Power Train Narsapura       Machining 1 P/T  2022-10-08  0.04  \n",
              "4198  Production Power Train Narsapura       Machining 2 P/T  2022-10-08  1.09  \n",
              "4199                               NaN                   NaN  2022-10-08  0.03  \n",
              "\n",
              "[4200 rows x 7 columns]"
            ],
            "text/html": [
              "\n",
              "  <div id=\"df-61972158-488a-41cd-a679-7f216b054be1\">\n",
              "    <div class=\"colab-df-container\">\n",
              "      <div>\n",
              "<style scoped>\n",
              "    .dataframe tbody tr th:only-of-type {\n",
              "        vertical-align: middle;\n",
              "    }\n",
              "\n",
              "    .dataframe tbody tr th {\n",
              "        vertical-align: top;\n",
              "    }\n",
              "\n",
              "    .dataframe thead th {\n",
              "        text-align: right;\n",
              "    }\n",
              "</style>\n",
              "<table border=\"1\" class=\"dataframe\">\n",
              "  <thead>\n",
              "    <tr style=\"text-align: right;\">\n",
              "      <th></th>\n",
              "      <th>E.Code</th>\n",
              "      <th>Designation</th>\n",
              "      <th>Operation</th>\n",
              "      <th>Division</th>\n",
              "      <th>Department</th>\n",
              "      <th>Date</th>\n",
              "      <th>OT</th>\n",
              "    </tr>\n",
              "  </thead>\n",
              "  <tbody>\n",
              "    <tr>\n",
              "      <th>0</th>\n",
              "      <td>174</td>\n",
              "      <td>Manager</td>\n",
              "      <td>Manesar Plant</td>\n",
              "      <td>Production Body Manesar</td>\n",
              "      <td>Paint</td>\n",
              "      <td>2022-10-01</td>\n",
              "      <td>0.17</td>\n",
              "    </tr>\n",
              "    <tr>\n",
              "      <th>1</th>\n",
              "      <td>189</td>\n",
              "      <td>Manager</td>\n",
              "      <td>Tapukara Plant</td>\n",
              "      <td>Plant Engineering Tapukara</td>\n",
              "      <td>Maintenance Tapukara</td>\n",
              "      <td>2022-10-01</td>\n",
              "      <td>0.04</td>\n",
              "    </tr>\n",
              "    <tr>\n",
              "      <th>2</th>\n",
              "      <td>361</td>\n",
              "      <td>Staff</td>\n",
              "      <td>Manesar Plant</td>\n",
              "      <td>Production Body Manesar</td>\n",
              "      <td>Assembly Frame</td>\n",
              "      <td>2022-10-01</td>\n",
              "      <td>1.56</td>\n",
              "    </tr>\n",
              "    <tr>\n",
              "      <th>3</th>\n",
              "      <td>368</td>\n",
              "      <td>General Manager</td>\n",
              "      <td>Narsapura Plant</td>\n",
              "      <td>Production Control Narsapura</td>\n",
              "      <td>NaN</td>\n",
              "      <td>2022-10-01</td>\n",
              "      <td>0.29</td>\n",
              "    </tr>\n",
              "    <tr>\n",
              "      <th>4</th>\n",
              "      <td>442</td>\n",
              "      <td>Chief Manager</td>\n",
              "      <td>Manesar Plant</td>\n",
              "      <td>Plant Engineering Manesar</td>\n",
              "      <td>Safety &amp; Environment</td>\n",
              "      <td>2022-10-01</td>\n",
              "      <td>0.36</td>\n",
              "    </tr>\n",
              "    <tr>\n",
              "      <th>...</th>\n",
              "      <td>...</td>\n",
              "      <td>...</td>\n",
              "      <td>...</td>\n",
              "      <td>...</td>\n",
              "      <td>...</td>\n",
              "      <td>...</td>\n",
              "      <td>...</td>\n",
              "    </tr>\n",
              "    <tr>\n",
              "      <th>4195</th>\n",
              "      <td>30010145</td>\n",
              "      <td>Apprentice</td>\n",
              "      <td>Narsapura Plant</td>\n",
              "      <td>Production Body Narsapura</td>\n",
              "      <td>Weld Narsapura</td>\n",
              "      <td>2022-10-08</td>\n",
              "      <td>1.20</td>\n",
              "    </tr>\n",
              "    <tr>\n",
              "      <th>4196</th>\n",
              "      <td>30010146</td>\n",
              "      <td>Apprentice</td>\n",
              "      <td>Narsapura Plant</td>\n",
              "      <td>Production Body Narsapura</td>\n",
              "      <td>Weld Narsapura</td>\n",
              "      <td>2022-10-08</td>\n",
              "      <td>1.20</td>\n",
              "    </tr>\n",
              "    <tr>\n",
              "      <th>4197</th>\n",
              "      <td>30010147</td>\n",
              "      <td>Apprentice</td>\n",
              "      <td>Narsapura Plant</td>\n",
              "      <td>Production Power Train Narsapura</td>\n",
              "      <td>Machining 1 P/T</td>\n",
              "      <td>2022-10-08</td>\n",
              "      <td>0.04</td>\n",
              "    </tr>\n",
              "    <tr>\n",
              "      <th>4198</th>\n",
              "      <td>30010148</td>\n",
              "      <td>Apprentice</td>\n",
              "      <td>Narsapura Plant</td>\n",
              "      <td>Production Power Train Narsapura</td>\n",
              "      <td>Machining 2 P/T</td>\n",
              "      <td>2022-10-08</td>\n",
              "      <td>1.09</td>\n",
              "    </tr>\n",
              "    <tr>\n",
              "      <th>4199</th>\n",
              "      <td>30010172</td>\n",
              "      <td>NaN</td>\n",
              "      <td>NaN</td>\n",
              "      <td>NaN</td>\n",
              "      <td>NaN</td>\n",
              "      <td>2022-10-08</td>\n",
              "      <td>0.03</td>\n",
              "    </tr>\n",
              "  </tbody>\n",
              "</table>\n",
              "<p>4200 rows × 7 columns</p>\n",
              "</div>\n",
              "      <button class=\"colab-df-convert\" onclick=\"convertToInteractive('df-61972158-488a-41cd-a679-7f216b054be1')\"\n",
              "              title=\"Convert this dataframe to an interactive table.\"\n",
              "              style=\"display:none;\">\n",
              "        \n",
              "  <svg xmlns=\"http://www.w3.org/2000/svg\" height=\"24px\"viewBox=\"0 0 24 24\"\n",
              "       width=\"24px\">\n",
              "    <path d=\"M0 0h24v24H0V0z\" fill=\"none\"/>\n",
              "    <path d=\"M18.56 5.44l.94 2.06.94-2.06 2.06-.94-2.06-.94-.94-2.06-.94 2.06-2.06.94zm-11 1L8.5 8.5l.94-2.06 2.06-.94-2.06-.94L8.5 2.5l-.94 2.06-2.06.94zm10 10l.94 2.06.94-2.06 2.06-.94-2.06-.94-.94-2.06-.94 2.06-2.06.94z\"/><path d=\"M17.41 7.96l-1.37-1.37c-.4-.4-.92-.59-1.43-.59-.52 0-1.04.2-1.43.59L10.3 9.45l-7.72 7.72c-.78.78-.78 2.05 0 2.83L4 21.41c.39.39.9.59 1.41.59.51 0 1.02-.2 1.41-.59l7.78-7.78 2.81-2.81c.8-.78.8-2.07 0-2.86zM5.41 20L4 18.59l7.72-7.72 1.47 1.35L5.41 20z\"/>\n",
              "  </svg>\n",
              "      </button>\n",
              "      \n",
              "  <style>\n",
              "    .colab-df-container {\n",
              "      display:flex;\n",
              "      flex-wrap:wrap;\n",
              "      gap: 12px;\n",
              "    }\n",
              "\n",
              "    .colab-df-convert {\n",
              "      background-color: #E8F0FE;\n",
              "      border: none;\n",
              "      border-radius: 50%;\n",
              "      cursor: pointer;\n",
              "      display: none;\n",
              "      fill: #1967D2;\n",
              "      height: 32px;\n",
              "      padding: 0 0 0 0;\n",
              "      width: 32px;\n",
              "    }\n",
              "\n",
              "    .colab-df-convert:hover {\n",
              "      background-color: #E2EBFA;\n",
              "      box-shadow: 0px 1px 2px rgba(60, 64, 67, 0.3), 0px 1px 3px 1px rgba(60, 64, 67, 0.15);\n",
              "      fill: #174EA6;\n",
              "    }\n",
              "\n",
              "    [theme=dark] .colab-df-convert {\n",
              "      background-color: #3B4455;\n",
              "      fill: #D2E3FC;\n",
              "    }\n",
              "\n",
              "    [theme=dark] .colab-df-convert:hover {\n",
              "      background-color: #434B5C;\n",
              "      box-shadow: 0px 1px 3px 1px rgba(0, 0, 0, 0.15);\n",
              "      filter: drop-shadow(0px 1px 2px rgba(0, 0, 0, 0.3));\n",
              "      fill: #FFFFFF;\n",
              "    }\n",
              "  </style>\n",
              "\n",
              "      <script>\n",
              "        const buttonEl =\n",
              "          document.querySelector('#df-61972158-488a-41cd-a679-7f216b054be1 button.colab-df-convert');\n",
              "        buttonEl.style.display =\n",
              "          google.colab.kernel.accessAllowed ? 'block' : 'none';\n",
              "\n",
              "        async function convertToInteractive(key) {\n",
              "          const element = document.querySelector('#df-61972158-488a-41cd-a679-7f216b054be1');\n",
              "          const dataTable =\n",
              "            await google.colab.kernel.invokeFunction('convertToInteractive',\n",
              "                                                     [key], {});\n",
              "          if (!dataTable) return;\n",
              "\n",
              "          const docLinkHtml = 'Like what you see? Visit the ' +\n",
              "            '<a target=\"_blank\" href=https://colab.research.google.com/notebooks/data_table.ipynb>data table notebook</a>'\n",
              "            + ' to learn more about interactive tables.';\n",
              "          element.innerHTML = '';\n",
              "          dataTable['output_type'] = 'display_data';\n",
              "          await google.colab.output.renderOutput(dataTable, element);\n",
              "          const docLink = document.createElement('div');\n",
              "          docLink.innerHTML = docLinkHtml;\n",
              "          element.appendChild(docLink);\n",
              "        }\n",
              "      </script>\n",
              "    </div>\n",
              "  </div>\n",
              "  "
            ]
          },
          "metadata": {},
          "execution_count": 68
        }
      ]
    },
    {
      "cell_type": "code",
      "source": [
        "# df_final.iloc[10035]"
      ],
      "metadata": {
        "id": "WVJwL5w4GIQ_"
      },
      "execution_count": 69,
      "outputs": []
    },
    {
      "cell_type": "code",
      "source": [
        "\"\"\" Applying Groupby opr. to group dataframe on basis of E.Code and apply sum and count opr. to \n",
        "compute Total_OT & Total_OT_Days \"\"\"\n",
        "\n",
        "groupby_ecode_Total_OT = df.groupby(['E.Code']).sum()\n",
        "groupby_ecode_Total_OT_Days = df.groupby(['E.Code']).count()\n",
        "groupby_operation_sum = df_final.groupby(['Operation']).sum()\n",
        "groupby_operation = df_final.groupby(['Operation']).count()\n",
        "groupby_division_sum = df_final.groupby(['Division']).sum()\n",
        "groupby_division = df_final.groupby(['Division']).count()\n",
        "groupby_designation_sum = df_final.groupby(['Designation']).sum()\n",
        "groupby_designation = df_final.groupby(['Designation']).count()"
      ],
      "metadata": {
        "id": "y7apyM_Ssx4E"
      },
      "execution_count": 70,
      "outputs": []
    },
    {
      "cell_type": "code",
      "source": [
        "#Converting Groupby object into DataFrame to apply CRUD opr.\n",
        "df2=pd.DataFrame(groupby_ecode_Total_OT)\n",
        "df3=pd.DataFrame(groupby_ecode_Total_OT_Days)\n",
        "df4=pd.DataFrame(groupby_operation)\n",
        "df5=pd.DataFrame(groupby_division)\n",
        "df6=pd.DataFrame(groupby_operation_sum)\n",
        "df7=pd.DataFrame(groupby_division_sum)\n",
        "df8=pd.DataFrame(groupby_designation)\n",
        "df9=pd.DataFrame(groupby_designation_sum)"
      ],
      "metadata": {
        "id": "Lni2QxomtrGa"
      },
      "execution_count": 71,
      "outputs": []
    },
    {
      "cell_type": "code",
      "source": [
        "df4=df4.drop(['E.Code','Designation','Division','Department','Date'], axis=1)\n",
        "df5=df5.drop(['E.Code','Designation','Operation','Department','Date'], axis=1)\n",
        "df8=df8.drop(['E.Code','Operation','Division','Department','Date'], axis=1)\n",
        "df6=df6.drop(['E.Code'], axis=1)\n",
        "df7=df7.drop(['E.Code'], axis=1)\n",
        "df9=df9.drop(['E.Code'], axis=1)"
      ],
      "metadata": {
        "id": "QBTNpIROFQgc"
      },
      "execution_count": 72,
      "outputs": []
    },
    {
      "cell_type": "code",
      "source": [
        "df4.rename(columns={'OT': 'Total OT_Days'}, inplace=True)\n",
        "df5.rename(columns={'OT': 'Total OT_Days'}, inplace=True)\n",
        "df8.rename(columns={'OT': 'Total OT_Days'}, inplace=True)\n",
        "# df6.rename(columns={'OT': 'Total OT_Days'}, inplace=True)\n",
        "# df7.rename(columns={'OT': 'Total OT_Days'}, inplace=True)"
      ],
      "metadata": {
        "id": "yIwq43rcF2jU"
      },
      "execution_count": 73,
      "outputs": []
    },
    {
      "cell_type": "code",
      "source": [
        "l4=[]\n",
        "for i in df2.index:\n",
        "      frac, whole = math.modf(df2['OT'][i])\n",
        "      mins=int(whole*60+frac*100)\n",
        "      hours=mins//60\n",
        "      minutes=mins%60\n",
        "      if minutes<10:\n",
        "          ot_time = float(\"{}.0{}\".format(hours, minutes))\n",
        "      else:\n",
        "          ot_time = float(\"{}.{}\".format(hours, minutes))\n",
        "      l4.append(ot_time)"
      ],
      "metadata": {
        "id": "kVlwoaPFRC7D"
      },
      "execution_count": 74,
      "outputs": []
    },
    {
      "cell_type": "code",
      "source": [
        "llp=[]\n",
        "for i in df6.index:\n",
        "      frac, whole = math.modf(df6['OT'][i])\n",
        "      mins=int(whole*60+frac*100)\n",
        "      hours=mins//60\n",
        "      minutes=mins%60\n",
        "      if minutes<10:\n",
        "          ot_time = float(\"{}.0{}\".format(hours, minutes))\n",
        "      else:\n",
        "          ot_time = float(\"{}.{}\".format(hours, minutes))\n",
        "      llp.append(ot_time)"
      ],
      "metadata": {
        "id": "ShDAJ7cuVPH3"
      },
      "execution_count": 75,
      "outputs": []
    },
    {
      "cell_type": "code",
      "source": [
        "lllp=[]\n",
        "for i in df7.index:\n",
        "      frac, whole = math.modf(df7['OT'][i])\n",
        "      mins=int(whole*60+frac*100)\n",
        "      hours=mins//60\n",
        "      minutes=mins%60\n",
        "      if minutes<10:\n",
        "          ot_time = float(\"{}.0{}\".format(hours, minutes))\n",
        "      else:\n",
        "          ot_time = float(\"{}.{}\".format(hours, minutes))\n",
        "      lllp.append(ot_time)"
      ],
      "metadata": {
        "id": "oMiHJS58Y3JC"
      },
      "execution_count": 76,
      "outputs": []
    },
    {
      "cell_type": "code",
      "source": [
        "llllp=[]\n",
        "for i in df9.index:\n",
        "      frac, whole = math.modf(df9['OT'][i])\n",
        "      mins=int(whole*60+frac*100)\n",
        "      hours=mins//60\n",
        "      minutes=mins%60\n",
        "      if minutes<10:\n",
        "          ot_time = float(\"{}.0{}\".format(hours, minutes))\n",
        "      else:\n",
        "          ot_time = float(\"{}.{}\".format(hours, minutes))\n",
        "      llllp.append(ot_time)"
      ],
      "metadata": {
        "id": "KqKDD2dlbpmB"
      },
      "execution_count": 77,
      "outputs": []
    },
    {
      "cell_type": "code",
      "source": [
        "df2['Total OT']=l4\n",
        "df6['Total OT']=llp\n",
        "df7['Total OT']=lllp\n",
        "df9['Total OT']=llllp"
      ],
      "metadata": {
        "id": "80ucpX7yBYHZ"
      },
      "execution_count": 78,
      "outputs": []
    },
    {
      "cell_type": "code",
      "source": [
        "#Droping an unnecesary column\n",
        "df3=df3.drop(['Date'], axis=1)"
      ],
      "metadata": {
        "id": "UkZguCTLTkmw"
      },
      "execution_count": 79,
      "outputs": []
    },
    {
      "cell_type": "code",
      "source": [
        "df2=df2.drop(['OT'], axis=1)\n",
        "df6=df6.drop(['OT'], axis=1)\n",
        "df7=df7.drop(['OT'], axis=1)\n",
        "df9=df9.drop(['OT'], axis=1)"
      ],
      "metadata": {
        "id": "gvCcBpNUBYLm"
      },
      "execution_count": 80,
      "outputs": []
    },
    {
      "cell_type": "code",
      "source": [
        "#Renaming Columns\n",
        "#df2.rename(columns={'OT': 'Total OT'}, inplace=True)\n",
        "df3.rename(columns={'OT': 'Total OT_Days'}, inplace=True)"
      ],
      "metadata": {
        "id": "Rv6uJ4qzwvG1"
      },
      "execution_count": 81,
      "outputs": []
    },
    {
      "cell_type": "code",
      "source": [
        "#Creating a final dataframe (E.Code, Total OT_Days, Total OT)\n",
        "result = pd.concat([df3,df2], axis=1)\n",
        "result_2 =  pd.concat([df4,df6], axis=1)\n",
        "result_3 =  pd.concat([df5,df7], axis=1)\n",
        "result_4 =  pd.concat([df8,df9], axis=1)"
      ],
      "metadata": {
        "id": "seE1Q1RzvHf6"
      },
      "execution_count": 82,
      "outputs": []
    },
    {
      "cell_type": "code",
      "source": [
        "\"\"\" Printing dataframe (E.Code, Total OT (after decimal place refers to mins, before refers to hrs; \n",
        "e.g 0.27--> 27 minutes, \n",
        "    1.08--> 1hr & 8 minutes), \n",
        "    Total OT_Days) \n",
        "\"\"\"\n",
        "result"
      ],
      "metadata": {
        "colab": {
          "base_uri": "https://localhost:8080/",
          "height": 455
        },
        "id": "rScXwiQwhqnX",
        "outputId": "4ba9dd44-a285-481a-8b56-ce1be94da746"
      },
      "execution_count": 83,
      "outputs": [
        {
          "output_type": "execute_result",
          "data": {
            "text/plain": [
              "          Total OT_Days  Total OT\n",
              "E.Code                           \n",
              "32                    1      0.09\n",
              "49                    1      0.13\n",
              "72                    1      0.02\n",
              "80                    3      2.36\n",
              "88                    1      0.39\n",
              "...                 ...       ...\n",
              "30010147              3      0.14\n",
              "30010148              4      3.31\n",
              "30010149              2      0.18\n",
              "30010150              1      0.04\n",
              "30010172              2      0.06\n",
              "\n",
              "[2390 rows x 2 columns]"
            ],
            "text/html": [
              "\n",
              "  <div id=\"df-afd2168c-e15d-41b1-a020-4e5a7f2563ed\">\n",
              "    <div class=\"colab-df-container\">\n",
              "      <div>\n",
              "<style scoped>\n",
              "    .dataframe tbody tr th:only-of-type {\n",
              "        vertical-align: middle;\n",
              "    }\n",
              "\n",
              "    .dataframe tbody tr th {\n",
              "        vertical-align: top;\n",
              "    }\n",
              "\n",
              "    .dataframe thead th {\n",
              "        text-align: right;\n",
              "    }\n",
              "</style>\n",
              "<table border=\"1\" class=\"dataframe\">\n",
              "  <thead>\n",
              "    <tr style=\"text-align: right;\">\n",
              "      <th></th>\n",
              "      <th>Total OT_Days</th>\n",
              "      <th>Total OT</th>\n",
              "    </tr>\n",
              "    <tr>\n",
              "      <th>E.Code</th>\n",
              "      <th></th>\n",
              "      <th></th>\n",
              "    </tr>\n",
              "  </thead>\n",
              "  <tbody>\n",
              "    <tr>\n",
              "      <th>32</th>\n",
              "      <td>1</td>\n",
              "      <td>0.09</td>\n",
              "    </tr>\n",
              "    <tr>\n",
              "      <th>49</th>\n",
              "      <td>1</td>\n",
              "      <td>0.13</td>\n",
              "    </tr>\n",
              "    <tr>\n",
              "      <th>72</th>\n",
              "      <td>1</td>\n",
              "      <td>0.02</td>\n",
              "    </tr>\n",
              "    <tr>\n",
              "      <th>80</th>\n",
              "      <td>3</td>\n",
              "      <td>2.36</td>\n",
              "    </tr>\n",
              "    <tr>\n",
              "      <th>88</th>\n",
              "      <td>1</td>\n",
              "      <td>0.39</td>\n",
              "    </tr>\n",
              "    <tr>\n",
              "      <th>...</th>\n",
              "      <td>...</td>\n",
              "      <td>...</td>\n",
              "    </tr>\n",
              "    <tr>\n",
              "      <th>30010147</th>\n",
              "      <td>3</td>\n",
              "      <td>0.14</td>\n",
              "    </tr>\n",
              "    <tr>\n",
              "      <th>30010148</th>\n",
              "      <td>4</td>\n",
              "      <td>3.31</td>\n",
              "    </tr>\n",
              "    <tr>\n",
              "      <th>30010149</th>\n",
              "      <td>2</td>\n",
              "      <td>0.18</td>\n",
              "    </tr>\n",
              "    <tr>\n",
              "      <th>30010150</th>\n",
              "      <td>1</td>\n",
              "      <td>0.04</td>\n",
              "    </tr>\n",
              "    <tr>\n",
              "      <th>30010172</th>\n",
              "      <td>2</td>\n",
              "      <td>0.06</td>\n",
              "    </tr>\n",
              "  </tbody>\n",
              "</table>\n",
              "<p>2390 rows × 2 columns</p>\n",
              "</div>\n",
              "      <button class=\"colab-df-convert\" onclick=\"convertToInteractive('df-afd2168c-e15d-41b1-a020-4e5a7f2563ed')\"\n",
              "              title=\"Convert this dataframe to an interactive table.\"\n",
              "              style=\"display:none;\">\n",
              "        \n",
              "  <svg xmlns=\"http://www.w3.org/2000/svg\" height=\"24px\"viewBox=\"0 0 24 24\"\n",
              "       width=\"24px\">\n",
              "    <path d=\"M0 0h24v24H0V0z\" fill=\"none\"/>\n",
              "    <path d=\"M18.56 5.44l.94 2.06.94-2.06 2.06-.94-2.06-.94-.94-2.06-.94 2.06-2.06.94zm-11 1L8.5 8.5l.94-2.06 2.06-.94-2.06-.94L8.5 2.5l-.94 2.06-2.06.94zm10 10l.94 2.06.94-2.06 2.06-.94-2.06-.94-.94-2.06-.94 2.06-2.06.94z\"/><path d=\"M17.41 7.96l-1.37-1.37c-.4-.4-.92-.59-1.43-.59-.52 0-1.04.2-1.43.59L10.3 9.45l-7.72 7.72c-.78.78-.78 2.05 0 2.83L4 21.41c.39.39.9.59 1.41.59.51 0 1.02-.2 1.41-.59l7.78-7.78 2.81-2.81c.8-.78.8-2.07 0-2.86zM5.41 20L4 18.59l7.72-7.72 1.47 1.35L5.41 20z\"/>\n",
              "  </svg>\n",
              "      </button>\n",
              "      \n",
              "  <style>\n",
              "    .colab-df-container {\n",
              "      display:flex;\n",
              "      flex-wrap:wrap;\n",
              "      gap: 12px;\n",
              "    }\n",
              "\n",
              "    .colab-df-convert {\n",
              "      background-color: #E8F0FE;\n",
              "      border: none;\n",
              "      border-radius: 50%;\n",
              "      cursor: pointer;\n",
              "      display: none;\n",
              "      fill: #1967D2;\n",
              "      height: 32px;\n",
              "      padding: 0 0 0 0;\n",
              "      width: 32px;\n",
              "    }\n",
              "\n",
              "    .colab-df-convert:hover {\n",
              "      background-color: #E2EBFA;\n",
              "      box-shadow: 0px 1px 2px rgba(60, 64, 67, 0.3), 0px 1px 3px 1px rgba(60, 64, 67, 0.15);\n",
              "      fill: #174EA6;\n",
              "    }\n",
              "\n",
              "    [theme=dark] .colab-df-convert {\n",
              "      background-color: #3B4455;\n",
              "      fill: #D2E3FC;\n",
              "    }\n",
              "\n",
              "    [theme=dark] .colab-df-convert:hover {\n",
              "      background-color: #434B5C;\n",
              "      box-shadow: 0px 1px 3px 1px rgba(0, 0, 0, 0.15);\n",
              "      filter: drop-shadow(0px 1px 2px rgba(0, 0, 0, 0.3));\n",
              "      fill: #FFFFFF;\n",
              "    }\n",
              "  </style>\n",
              "\n",
              "      <script>\n",
              "        const buttonEl =\n",
              "          document.querySelector('#df-afd2168c-e15d-41b1-a020-4e5a7f2563ed button.colab-df-convert');\n",
              "        buttonEl.style.display =\n",
              "          google.colab.kernel.accessAllowed ? 'block' : 'none';\n",
              "\n",
              "        async function convertToInteractive(key) {\n",
              "          const element = document.querySelector('#df-afd2168c-e15d-41b1-a020-4e5a7f2563ed');\n",
              "          const dataTable =\n",
              "            await google.colab.kernel.invokeFunction('convertToInteractive',\n",
              "                                                     [key], {});\n",
              "          if (!dataTable) return;\n",
              "\n",
              "          const docLinkHtml = 'Like what you see? Visit the ' +\n",
              "            '<a target=\"_blank\" href=https://colab.research.google.com/notebooks/data_table.ipynb>data table notebook</a>'\n",
              "            + ' to learn more about interactive tables.';\n",
              "          element.innerHTML = '';\n",
              "          dataTable['output_type'] = 'display_data';\n",
              "          await google.colab.output.renderOutput(dataTable, element);\n",
              "          const docLink = document.createElement('div');\n",
              "          docLink.innerHTML = docLinkHtml;\n",
              "          element.appendChild(docLink);\n",
              "        }\n",
              "      </script>\n",
              "    </div>\n",
              "  </div>\n",
              "  "
            ]
          },
          "metadata": {},
          "execution_count": 83
        }
      ]
    },
    {
      "cell_type": "code",
      "source": [
        "# Sorting dataframe in descending order on basis of Total OT_Days (User can get top x employees on basis of Total OT_Days)\n",
        "cont2=result.sort_values(by=['Total OT_Days'], ascending=False)"
      ],
      "metadata": {
        "id": "RosYOBSMvgbb"
      },
      "execution_count": 84,
      "outputs": []
    },
    {
      "cell_type": "code",
      "source": [
        "# Sorting dataframe in descending order on basis of Total OT (User can get top x employees on basis of Total OT)\n",
        "cont3=result.sort_values(by=['Total OT'], ascending=False)"
      ],
      "metadata": {
        "id": "ssR8YdwbPZnz"
      },
      "execution_count": 85,
      "outputs": []
    },
    {
      "cell_type": "code",
      "source": [
        "cont4=result_2.sort_values(by=['Total OT_Days'], ascending=False)"
      ],
      "metadata": {
        "id": "_QCkyOLlDLPD"
      },
      "execution_count": 86,
      "outputs": []
    },
    {
      "cell_type": "code",
      "source": [
        "cont5=result_2.sort_values(by=['Total OT'], ascending=False)"
      ],
      "metadata": {
        "id": "E_hyzAg1cYvd"
      },
      "execution_count": 87,
      "outputs": []
    },
    {
      "cell_type": "code",
      "source": [
        "cont6=result_3.sort_values(by=['Total OT_Days'], ascending=False)"
      ],
      "metadata": {
        "id": "BTusvXDhcbbW"
      },
      "execution_count": 88,
      "outputs": []
    },
    {
      "cell_type": "code",
      "source": [
        "cont7=result_3.sort_values(by=['Total OT'], ascending=False)"
      ],
      "metadata": {
        "id": "pvbHsTI3cbeu"
      },
      "execution_count": 89,
      "outputs": []
    },
    {
      "cell_type": "code",
      "source": [
        "cont8=result_4.sort_values(by=['Total OT_Days'], ascending=False)"
      ],
      "metadata": {
        "id": "REvf2O9ccppO"
      },
      "execution_count": 90,
      "outputs": []
    },
    {
      "cell_type": "code",
      "source": [
        "cont9=result_4.sort_values(by=['Total OT'], ascending=False)"
      ],
      "metadata": {
        "id": "YBrX17IbcppO"
      },
      "execution_count": 91,
      "outputs": []
    },
    {
      "cell_type": "code",
      "source": [
        "!pip install xlsxwriter"
      ],
      "metadata": {
        "colab": {
          "base_uri": "https://localhost:8080/"
        },
        "id": "1DD4DnB7MIup",
        "outputId": "ddbbc3d9-f9b7-47f7-b409-64bbbec8a027"
      },
      "execution_count": 92,
      "outputs": [
        {
          "output_type": "stream",
          "name": "stdout",
          "text": [
            "Looking in indexes: https://pypi.org/simple, https://us-python.pkg.dev/colab-wheels/public/simple/\n",
            "Requirement already satisfied: xlsxwriter in /usr/local/lib/python3.7/dist-packages (3.0.3)\n"
          ]
        }
      ]
    },
    {
      "cell_type": "code",
      "source": [
        "from openpyxl import Workbook\n",
        "import xlsxwriter\n",
        "import os\n",
        "\n",
        "workbook = xlsxwriter.Workbook(r'OT_Analysis.xlsx')\n",
        "with pd.ExcelWriter(r'OT_Analysis.xlsx') as writer:\n",
        "#writer = r\"C:\\Users\\Kartikey\\Desktop\\shorttt.xlsx\"\n",
        "# write dataframe to excel\n",
        "    df_final.to_excel(writer,sheet_name='OT')\n",
        "    result.to_excel(writer,sheet_name='Total_OT')\n",
        "    cont2.to_excel(writer,sheet_name='Descending_Total_OT_Days')\n",
        "    cont3.to_excel(writer,sheet_name='Descending_Total_OT')\n",
        "    cont4.to_excel(writer,sheet_name='Operation_Highest_Total_OT_Days')\n",
        "    cont5.to_excel(writer,sheet_name='Operation_Highest_Total_OT')\n",
        "    cont6.to_excel(writer,sheet_name='Division_Highest_Total_OT_Days')\n",
        "    cont7.to_excel(writer,sheet_name='Division_Highest_Total_OT')\n",
        "    cont8.to_excel(writer,sheet_name='Desig_Highest_Total_OT_Days')\n",
        "    cont9.to_excel(writer,sheet_name='Desig_Highest_Total_OT')"
      ],
      "metadata": {
        "id": "-XC5EpaTKKZE"
      },
      "execution_count": 93,
      "outputs": []
    }
  ]
}
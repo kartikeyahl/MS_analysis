{
  "nbformat": 4,
  "nbformat_minor": 0,
  "metadata": {
    "colab": {
      "provenance": [],
      "collapsed_sections": []
    },
    "kernelspec": {
      "name": "python3",
      "display_name": "Python 3"
    },
    "language_info": {
      "name": "python"
    },
    "accelerator": "GPU"
  },
  "cells": [
    {
      "cell_type": "code",
      "execution_count": 1,
      "metadata": {
        "id": "S6DZ4_-nAQcH"
      },
      "outputs": [],
      "source": [
        "# Importing the libraries\n",
        "import numpy as np\n",
        "import pandas as pd\n",
        "from datetime import datetime\n",
        "import math"
      ]
    },
    {
      "cell_type": "code",
      "source": [
        "# Importing the excel\n",
        "dataset = pd.read_excel('punch_short.xlsx')"
      ],
      "metadata": {
        "id": "MUwue4HRBYwQ"
      },
      "execution_count": 2,
      "outputs": []
    },
    {
      "cell_type": "code",
      "source": [
        "#Renaming column name to a valid column name format as per python\n",
        "dataset.rename(columns={'IN/OUT': 'IN_OUT'}, inplace=True)"
      ],
      "metadata": {
        "id": "qKKdv42HE6sA"
      },
      "execution_count": 3,
      "outputs": []
    },
    {
      "cell_type": "code",
      "source": [
        "#Droping rows that conatain 1 in 'IN_OUT' column\n",
        "dataset=dataset[dataset.IN_OUT!=1]"
      ],
      "metadata": {
        "id": "dw4bhU8iDiBX"
      },
      "execution_count": 4,
      "outputs": []
    },
    {
      "cell_type": "code",
      "source": [
        "#Converting Date column values into year-month-day format\n",
        "j,k=0,0\n",
        "for i in dataset.iloc[:,3]:\n",
        "  dataset.Date[j]=datetime.strptime(str(i),'%Y%m%d').date()\n",
        "  j+=1\n",
        "\n",
        "dataset['Date'] = pd.to_datetime(dataset['Date'], errors='coerce')"
      ],
      "metadata": {
        "id": "yvGUfVsh5-uT"
      },
      "execution_count": null,
      "outputs": []
    },
    {
      "cell_type": "code",
      "source": [
        "#Calculating and appending Punch time difference for each employee with the corresponding E.Code into dataframe (l)\n",
        "l=[]\n",
        "for i in range(len(dataset)-1):\n",
        "  j=i+1\n",
        "  l.append([dataset.iloc[i]['E.Code'], datetime.combine(dataset.Date[0], datetime.strptime(str(dataset.iloc[j]['Time']),'%H%M%S').time()) - datetime.combine(dataset.Date[0], datetime.strptime(str(dataset.iloc[i]['Time']),'%H%M%S').time())])  \n",
        "  i=i+2"
      ],
      "metadata": {
        "id": "-mkUg6_8if77"
      },
      "execution_count": 6,
      "outputs": []
    },
    {
      "cell_type": "code",
      "source": [
        "#Inserting date in datetime format after E.Code column\n",
        "for i in range(len(l)):\n",
        "  l[i].insert(1,dataset.iloc[i]['Date'].date())"
      ],
      "metadata": {
        "id": "s3bG6nk-oKjW"
      },
      "execution_count": 7,
      "outputs": []
    },
    {
      "cell_type": "code",
      "source": [
        "#Replacing \":\" with \".\" and getting upto 2 decimal places in Time to make mathematical operations feasible on i\n",
        "for i in range(len(l)):\n",
        "  l[i][2] = l[i][2].__str__().replace(\":\",\".\")\n",
        "  s=l[i][2]\n",
        "  l[i][2]=s[0:-3]"
      ],
      "metadata": {
        "id": "tOkbgzhwI3WQ"
      },
      "execution_count": 8,
      "outputs": []
    },
    {
      "cell_type": "code",
      "source": [
        "#Removing redundant rows and storing in new data-structure\n",
        "l2=[]\n",
        "for i in range(len(l)):\n",
        "  if 'd' not in str(l[i][2]):\n",
        "    l2.append(l[i]) "
      ],
      "metadata": {
        "id": "ME6usX84dlhy"
      },
      "execution_count": 9,
      "outputs": []
    },
    {
      "cell_type": "code",
      "source": [
        "#Converting string type to float for Time column\n",
        "for i in range(len(l2)):\n",
        "  l2[i][2]=float(\"{:.2f}\".format(float(l2[i][2])))"
      ],
      "metadata": {
        "id": "rHo0S3Olewk9"
      },
      "execution_count": 10,
      "outputs": []
    },
    {
      "cell_type": "code",
      "source": [
        "\"\"\"Converting time from float to mins, applied logic to check if it is greater than 9hrs & 30mins. Subtacting the \n",
        "result to get over time (minutes) converting and storing it into hrs.minutes format. \"\"\"\n",
        "\n",
        "l3=[]\n",
        "for i in range(len(l2)):\n",
        "    frac, whole = math.modf(l2[i][2])\n",
        "    mins=int(whole*60+frac*100)\n",
        "    if mins>570:\n",
        "      mins=mins-570\n",
        "      hours=mins//60\n",
        "      minutes=mins%60\n",
        "      if minutes<10:\n",
        "        ot_time = float(\"{}.0{}\".format(hours, minutes))\n",
        "      else:\n",
        "        ot_time = float(\"{}.{}\".format(hours, minutes))\n",
        "      l2[i].append(ot_time)\n",
        "      l3.append(l2[i])"
      ],
      "metadata": {
        "id": "PuIkZ4T9HifE"
      },
      "execution_count": 11,
      "outputs": []
    },
    {
      "cell_type": "code",
      "source": [
        "# Converting 2d list to dataframe to apply CRUD opertations\n",
        "df = pd.DataFrame(l3, columns=['E.Code','Date','Total Time','OT'])"
      ],
      "metadata": {
        "id": "MMVYG1IjQmbM"
      },
      "execution_count": 14,
      "outputs": []
    },
    {
      "cell_type": "code",
      "source": [
        "#Droping an unnecesary column\n",
        "df=df.drop(['Total Time'], axis=1)"
      ],
      "metadata": {
        "id": "6cSXdPLbbNpX"
      },
      "execution_count": 15,
      "outputs": []
    },
    {
      "cell_type": "code",
      "source": [
        "\"\"\" Printing dataframe (E.Code, Date, OT (after decimal place refers to mins, before refers to hrs; \n",
        "e.g 0.27--> 27 minutes, \n",
        "    1.08--> 1hr & 8 minutes)) \n",
        "\"\"\"\n",
        "\n",
        "df"
      ],
      "metadata": {
        "id": "zD69Z1nms6Os"
      },
      "execution_count": null,
      "outputs": []
    },
    {
      "cell_type": "code",
      "source": [
        "\"\"\" Applying Groupby opr. to group dataframe on basis of E.Code and apply sum and count opr. to \n",
        "compute Total_OT & Total_OT_Days \"\"\"\n",
        "\n",
        "groupby_ecode_Total_OT = df.groupby(['E.Code']).sum()\n",
        "groupby_ecode_Total_OT_Days = df.groupby(['E.Code']).count()"
      ],
      "metadata": {
        "id": "y7apyM_Ssx4E"
      },
      "execution_count": 17,
      "outputs": []
    },
    {
      "cell_type": "code",
      "source": [
        "#Converting Groupby object into DataFrame to apply CRUD opr.\n",
        "df2=pd.DataFrame(groupby_ecode_Total_OT)\n",
        "df3=pd.DataFrame(groupby_ecode_Total_OT_Days)"
      ],
      "metadata": {
        "id": "Lni2QxomtrGa"
      },
      "execution_count": 18,
      "outputs": []
    },
    {
      "cell_type": "code",
      "source": [
        "l3=[]\n",
        "for i in range(len(df2)):\n",
        "    frac, whole = math.modf(df2.iloc[i]['OT'])\n",
        "    mins=int(whole*60+frac*100)\n",
        "    hours=mins//60\n",
        "    minutes=mins%60\n",
        "    if minutes<10:\n",
        "      ot_time = float(\"{}.0{}\".format(hours, minutes))\n",
        "    else:\n",
        "      ot_time = float(\"{}.{}\".format(hours, minutes))\n",
        "    l3.append(ot_time)"
      ],
      "metadata": {
        "id": "l7D9oFff7Akq"
      },
      "execution_count": 20,
      "outputs": []
    },
    {
      "cell_type": "code",
      "source": [
        "df2['Total OT']=l3"
      ],
      "metadata": {
        "id": "u9fxa-HKSXOo"
      },
      "execution_count": 21,
      "outputs": []
    },
    {
      "cell_type": "code",
      "source": [
        "df2=df2.drop(['OT'], axis=1)"
      ],
      "metadata": {
        "id": "QG8QFSL-Au4_"
      },
      "execution_count": 22,
      "outputs": []
    },
    {
      "cell_type": "code",
      "source": [
        "#Droping an unnecesary column\n",
        "df3=df3.drop(['Date'], axis=1)"
      ],
      "metadata": {
        "id": "66lV5vGgt-dR"
      },
      "execution_count": 23,
      "outputs": []
    },
    {
      "cell_type": "code",
      "source": [
        "#Renaming Columns\n",
        "# df2.rename(columns={'OT': 'Total OT'}, inplace=True)\n",
        "df3.rename(columns={'OT': 'Total OT_Days'}, inplace=True)"
      ],
      "metadata": {
        "id": "Rv6uJ4qzwvG1"
      },
      "execution_count": 24,
      "outputs": []
    },
    {
      "cell_type": "code",
      "source": [
        "#Creating a final dataframe (E.Code, Total OT_Days, Total OT)\n",
        "result = pd.concat([df2,df3], axis=1)"
      ],
      "metadata": {
        "id": "seE1Q1RzvHf6"
      },
      "execution_count": 25,
      "outputs": []
    },
    {
      "cell_type": "code",
      "source": [
        "\"\"\" Printing dataframe (E.Code, Total OT (after decimal place refers to mins, before refers to hrs; \n",
        "e.g 0.27--> 27 minutes, \n",
        "    1.08--> 1hr & 8 minutes), \n",
        "    Total OT_Days) \n",
        "\"\"\"\n",
        "result"
      ],
      "metadata": {
        "id": "rScXwiQwhqnX"
      },
      "execution_count": null,
      "outputs": []
    },
    {
      "cell_type": "code",
      "source": [
        "# Sorting dataframe in descending order on basis of Total OT_Days (User can get top x employees on basis of Total OT_Days)\n",
        "context2 = result.sort_values(by=['Total OT_Days'], ascending=False)"
      ],
      "metadata": {
        "id": "RosYOBSMvgbb"
      },
      "execution_count": 27,
      "outputs": []
    },
    {
      "cell_type": "code",
      "source": [
        "# Sorting dataframe in descending order on basis of Total OT (User can get top x employees on basis of Total OT)\n",
        "context3 = result.sort_values(by=['Total OT'], ascending=False)"
      ],
      "metadata": {
        "id": "ssR8YdwbPZnz"
      },
      "execution_count": 28,
      "outputs": []
    },
    {
      "cell_type": "code",
      "source": [
        "!pip install xlsxwriter"
      ],
      "metadata": {
        "id": "cPoIw2ygtuhC"
      },
      "execution_count": null,
      "outputs": []
    },
    {
      "cell_type": "code",
      "source": [
        "#from openpyxl import Workbook\n",
        "import xlsxwriter\n",
        "workbook = xlsxwriter.Workbook('dd.xlsx')"
      ],
      "metadata": {
        "id": "uluOpstsVnsy"
      },
      "execution_count": null,
      "outputs": []
    },
    {
      "cell_type": "code",
      "source": [
        "with pd.ExcelWriter('dd.xlsx') as writer:\n",
        "                df.to_excel(writer,sheet_name='OT')\n",
        "                result.to_excel(writer,sheet_name='Total_OT')\n",
        "                context2.to_excel(writer,sheet_name='Descending_Total_OT_Days')\n",
        "                context3.to_excel(writer,sheet_name='Descending_Total_OT')"
      ],
      "metadata": {
        "id": "yZyXwL1WfJF2"
      },
      "execution_count": null,
      "outputs": []
    }
  ]
}